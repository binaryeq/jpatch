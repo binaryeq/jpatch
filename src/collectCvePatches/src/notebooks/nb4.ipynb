{
 "cells": [
  {
   "cell_type": "code",
   "execution_count": null,
   "metadata": {
    "collapsed": true
   },
   "outputs": [],
   "source": [
    "import io.github.cdimascio.dotenv.Dotenv\n",
    "import java.nio.file.Paths\n",
    "\n",
    "val dotenv = Dotenv.load()\n",
    "val dataDir = dotenv.get(\"DATA_DIR\").let { Paths.get(it).toFile() }.also { it.mkdirs() }\n",
    "dataDir"
   ]
  },
  {
   "cell_type": "code",
   "execution_count": 16,
   "outputs": [],
   "source": [
    "import kotlinx.serialization.Serializable\n",
    "\n",
    "// from previous notebook\n",
    "@Serializable\n",
    "data class InterimResult2(\n",
    "    val cveId: String,\n",
    "    val ghsaId: String,\n",
    "    val packageName: String,\n",
    "    val vulnIntroduced: String,\n",
    "    val latestVulnVersion: String,\n",
    "    val fixedVersion: String,\n",
    "    val fixCommitRepo: String,\n",
    "    val fixCommitHash: String,\n",
    "    val jarBefore: String,\n",
    "    val jarAfter: String,\n",
    "    val srcBefore: String,\n",
    "    val srcAfter: String,\n",
    "    val classFileBefore: String,\n",
    "    val classFileAfter: String,\n",
    "    val changedClass: String,\n",
    "    val changedMethods: String,\n",
    "    val packageIdBefore: String,\n",
    "    val packageIdAfter: String,\n",
    "    val diffParsedJson: String,\n",
    "    val nloc: Int,\n",
    ")"
   ],
   "metadata": {
    "collapsed": false,
    "ExecuteTime": {
     "end_time": "2023-11-08T00:39:37.671948031Z",
     "start_time": "2023-11-08T00:39:37.368553941Z"
    }
   }
  },
  {
   "cell_type": "code",
   "execution_count": 21,
   "outputs": [],
   "source": [
    "val data = DataFrame.readJson(dataDir.resolve(\"proc/changes.json\"))"
   ],
   "metadata": {
    "collapsed": false,
    "ExecuteTime": {
     "end_time": "2023-11-08T00:59:22.413817822Z",
     "start_time": "2023-11-08T00:59:21.736543618Z"
    }
   }
  },
  {
   "cell_type": "code",
   "execution_count": null,
   "outputs": [],
   "source": [
    "import com.google.gson.GsonBuilder\n",
    "\n",
    "data.rows().shuffled().take(1).map {\n",
    "    val jsonString = it.diffParsedJson\n",
    "    DISPLAY(jsonString)\n",
    "    val gson = GsonBuilder().setPrettyPrinting().create()\n",
    "    val json = gson.fromJson(jsonString, JsonElement::class.java)\n",
    "    val niceJsonString = gson.toJson(json)\n",
    "    DISPLAY(niceJsonString)\n",
    "}"
   ],
   "metadata": {
    "collapsed": false
   }
  },
  {
   "cell_type": "code",
   "execution_count": 30,
   "outputs": [],
   "source": [
    "data class InterimResult3(\n",
    "    val cveId: String,\n",
    "    val ghsaId: String,\n",
    "    val groupArtifact: String,\n",
    "    val vulnIntroduced: String,\n",
    "    val latestVulnVersion: String,\n",
    "    val fixedVersion: String,\n",
    "    val fixCommitRepo: String,\n",
    "    val fixCommitHash: String,\n",
    "    val jarBefore: String,\n",
    "    val jarAfter: String,\n",
    "    val srcBefore: String,\n",
    "    val srcAfter: String,\n",
    "    val classFileBefore: String,\n",
    "    val classFileAfter: String,\n",
    "    val changedClass: String,\n",
    "    val changedMethods: String,\n",
    "    val packageIdBefore: String,\n",
    "    val packageIdAfter: String,\n",
    "    val diffJson: JsonElement,\n",
    "    val nloc: Int,\n",
    ")\n",
    "\n",
    "val newData = data\n",
    "    .rows()\n",
    "    .map {\n",
    "        val gson = GsonBuilder().setPrettyPrinting().create()\n",
    "        val json = gson.fromJson(it.diffParsedJson, JsonElement::class.java)\n",
    "        InterimResult3(\n",
    "            cveId = it.cveId,\n",
    "            ghsaId = it.ghsaId,\n",
    "            groupArtifact = it.packageName,\n",
    "            vulnIntroduced = it.vulnIntroduced,\n",
    "            latestVulnVersion = it.latestVulnVersion,\n",
    "            fixedVersion = it.fixedVersion,\n",
    "            fixCommitRepo = it.fixCommitRepo,\n",
    "            fixCommitHash = it.fixCommitHash,\n",
    "            jarBefore = it.jarBefore,\n",
    "            jarAfter = it.jarAfter,\n",
    "            srcBefore = it.srcBefore,\n",
    "            srcAfter = it.srcAfter,\n",
    "            classFileBefore = it.classFileBefore,\n",
    "            classFileAfter = it.classFileAfter,\n",
    "            changedClass = it.changedClass,\n",
    "            changedMethods = it.changedMethods,\n",
    "            packageIdBefore = it.packageIdBefore,\n",
    "            packageIdAfter = it.packageIdAfter,\n",
    "            diffJson = json,\n",
    "            nloc = it.nloc,\n",
    "        )\n",
    "    }"
   ],
   "metadata": {
    "collapsed": false,
    "ExecuteTime": {
     "end_time": "2023-11-08T01:10:22.140641398Z",
     "start_time": "2023-11-08T01:10:21.928965042Z"
    }
   }
  },
  {
   "cell_type": "code",
   "execution_count": 39,
   "outputs": [],
   "source": [
    "import io.ktor.util.*\n",
    "import java.io.FileOutputStream\n",
    "import java.io.OutputStreamWriter\n",
    "import java.nio.charset.Charset\n",
    "\n",
    "val gson = GsonBuilder().setPrettyPrinting().disableHtmlEscaping().create() \n",
    "val json = gson.toJson(newData)\n",
    "dataDir.resolve(\"proc/changes.v2.json\").writeText(json)"
   ],
   "metadata": {
    "collapsed": false,
    "ExecuteTime": {
     "end_time": "2023-11-08T01:22:27.229391812Z",
     "start_time": "2023-11-08T01:22:27.165239751Z"
    }
   }
  }
 ],
 "metadata": {
  "kernelspec": {
   "display_name": "Kotlin",
   "language": "kotlin",
   "name": "kotlin"
  },
  "language_info": {
   "name": "kotlin",
   "version": "1.9.0",
   "mimetype": "text/x-kotlin",
   "file_extension": ".kt",
   "pygments_lexer": "kotlin",
   "codemirror_mode": "text/x-kotlin",
   "nbconvert_exporter": ""
  },
  "ktnbPluginMetadata": {
   "projectDependencies": true
  }
 },
 "nbformat": 4,
 "nbformat_minor": 0
}
