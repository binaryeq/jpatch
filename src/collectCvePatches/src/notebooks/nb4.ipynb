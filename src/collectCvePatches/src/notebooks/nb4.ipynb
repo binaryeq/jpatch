{
 "cells": [
  {
   "cell_type": "code",
   "execution_count": 1,
   "metadata": {
    "collapsed": true,
    "ExecuteTime": {
     "end_time": "2023-11-07T23:29:19.305919698Z",
     "start_time": "2023-11-07T23:29:19.064464782Z"
    }
   },
   "outputs": [
    {
     "data": {
      "text/plain": "/home/mm/w/jpatch/data"
     },
     "execution_count": 1,
     "metadata": {},
     "output_type": "execute_result"
    }
   ],
   "source": [
    "import io.github.cdimascio.dotenv.Dotenv\n",
    "import java.nio.file.Paths\n",
    "\n",
    "val dotenv = Dotenv.load()\n",
    "val dataDir = dotenv.get(\"DATA_DIR\").let { Paths.get(it).toFile() }.also { it.mkdirs() }\n",
    "dataDir"
   ]
  },
  {
   "cell_type": "code",
   "execution_count": 16,
   "outputs": [],
   "source": [
    "import kotlinx.serialization.Serializable\n",
    "\n",
    "// from previous notebook\n",
    "@Serializable\n",
    "data class InterimResult2(\n",
    "    val cveId: String,\n",
    "    val ghsaId: String,\n",
    "    val packageName: String,\n",
    "    val vulnIntroduced: String,\n",
    "    val latestVulnVersion: String,\n",
    "    val fixedVersion: String,\n",
    "    val fixCommitRepo: String,\n",
    "    val fixCommitHash: String,\n",
    "    val jarBefore: String,\n",
    "    val jarAfter: String,\n",
    "    val srcBefore: String,\n",
    "    val srcAfter: String,\n",
    "    val classFileBefore: String,\n",
    "    val classFileAfter: String,\n",
    "    val changedClass: String,\n",
    "    val changedMethods: String,\n",
    "    val packageIdBefore: String,\n",
    "    val packageIdAfter: String,\n",
    "    val diffParsedJson: String,\n",
    "    val nloc: Int,\n",
    ")"
   ],
   "metadata": {
    "collapsed": false,
    "ExecuteTime": {
     "end_time": "2023-11-08T00:39:37.671948031Z",
     "start_time": "2023-11-08T00:39:37.368553941Z"
    }
   }
  },
  {
   "cell_type": "code",
   "execution_count": 21,
   "outputs": [],
   "source": [
    "val data = DataFrame.readJson(dataDir.resolve(\"proc/changes.json\"))"
   ],
   "metadata": {
    "collapsed": false,
    "ExecuteTime": {
     "end_time": "2023-11-08T00:59:22.413817822Z",
     "start_time": "2023-11-08T00:59:21.736543618Z"
    }
   }
  },
  {
   "cell_type": "code",
   "execution_count": 29,
   "outputs": [
    {
     "data": {
      "text/plain": "{\"added\": [[33, \"    private boolean strictChecking = false;\"], [34, \"\"], [44, \"     *\"], [45, \"     *       &lt;strict-checking/&gt;\"], [63, \"                    assertNodeName(node,\\\"allow-origin\\\",\\\"strict-checking\\\");\"], [64, \"                    if (node.getNodeName().equals(\\\"allow-origin\\\")) {\"], [65, \"                        String p = node.getTextContent().trim().toLowerCase();\"], [66, \"                        p = Pattern.quote(p).replace(\\\"*\\\", \\\"\\\\\\\\E.*\\\\\\\\Q\\\");\"], [67, \"                        patterns.add(Pattern.compile(\\\"^\\\" + p + \\\"$\\\"));\"], [68, \"                    } else if (node.getNodeName().equals(\\\"strict-checking\\\")) {\"], [69, \"                        strictChecking = true;\"], [70, \"                    }\"], [79, \"        return check(pArg,false);\"], [80, \"    }\"], [81, \"\"], [82, \"    public boolean check(String pOrigin, boolean pIsStrictCheck) {\"], [83, \"        // Method called during strict checking but we have not configured that\"], [84, \"        // So the check passes always.\"], [85, \"        if (pIsStrictCheck && !strictChecking) {\"], [86, \"            return true;\"], [87, \"        }\"], [88, \"\"], [93, \"            if (pattern.matcher(pOrigin).matches()) {\"]], \"deleted\": [[59, \"                    assertNodeName(node,\\\"allow-origin\\\");\"], [60, \"                    String p = node.getTextContent().trim().toLowerCase();\"], [61, \"                    p = Pattern.quote(p).replace(\\\"*\\\",\\\"\\\\\\\\E.*\\\\\\\\Q\\\");\"], [62, \"                    patterns.add(Pattern.compile(\\\"^\\\" + p + \\\"$\\\"));\"], [75, \"            if (pattern.matcher(pArg).matches()) {\"]]}"
     },
     "metadata": {},
     "output_type": "display_data"
    },
    {
     "data": {
      "text/plain": "{\n  \"added\": [\n    [\n      33,\n      \"    private boolean strictChecking \\u003d false;\"\n    ],\n    [\n      34,\n      \"\"\n    ],\n    [\n      44,\n      \"     *\"\n    ],\n    [\n      45,\n      \"     *       \\u0026lt;strict-checking/\\u0026gt;\"\n    ],\n    [\n      63,\n      \"                    assertNodeName(node,\\\"allow-origin\\\",\\\"strict-checking\\\");\"\n    ],\n    [\n      64,\n      \"                    if (node.getNodeName().equals(\\\"allow-origin\\\")) {\"\n    ],\n    [\n      65,\n      \"                        String p \\u003d node.getTextContent().trim().toLowerCase();\"\n    ],\n    [\n      66,\n      \"                        p \\u003d Pattern.quote(p).replace(\\\"*\\\", \\\"\\\\\\\\E.*\\\\\\\\Q\\\");\"\n    ],\n    [\n      67,\n      \"                        patterns.add(Pattern.compile(\\\"^\\\" + p + \\\"$\\\"));\"\n    ],\n    [\n      68,\n      \"                    } else if (node.getNodeName().equals(\\\"strict-checking\\\")) {\"\n    ],\n    [\n      69,\n      \"                        strictChecking \\u003d true;\"\n    ],\n    [\n      70,\n      \"                    }\"\n    ],\n    [\n      79,\n      \"        return check(pArg,false);\"\n    ],\n    [\n      80,\n      \"    }\"\n    ],\n    [\n      81,\n      \"\"\n    ],\n    [\n      82,\n      \"    public boolean check(String pOrigin, boolean pIsStrictCheck) {\"\n    ],\n    [\n      83,\n      \"        // Method called during strict checking but we have not configured that\"\n    ],\n    [\n      84,\n      \"        // So the check passes always.\"\n    ],\n    [\n      85,\n      \"        if (pIsStrictCheck \\u0026\\u0026 !strictChecking) {\"\n    ],\n    [\n      86,\n      \"            return true;\"\n    ],\n    [\n      87,\n      \"        }\"\n    ],\n    [\n      88,\n      \"\"\n    ],\n    [\n      93,\n      \"            if (pattern.matcher(pOrigin).matches()) {\"\n    ]\n  ],\n  \"deleted\": [\n    [\n      59,\n      \"                    assertNodeName(node,\\\"allow-origin\\\");\"\n    ],\n    [\n      60,\n      \"                    String p \\u003d node.getTextContent().trim().toLowerCase();\"\n    ],\n    [\n      61,\n      \"                    p \\u003d Pattern.quote(p).replace(\\\"*\\\",\\\"\\\\\\\\E.*\\\\\\\\Q\\\");\"\n    ],\n    [\n      62,\n      \"                    patterns.add(Pattern.compile(\\\"^\\\" + p + \\\"$\\\"));\"\n    ],\n    [\n      75,\n      \"            if (pattern.matcher(pArg).matches()) {\"\n    ]\n  ]\n}"
     },
     "metadata": {},
     "output_type": "display_data"
    },
    {
     "data": {
      "text/plain": "[kotlin.Unit]"
     },
     "execution_count": 29,
     "metadata": {},
     "output_type": "execute_result"
    }
   ],
   "source": [
    "import com.google.gson.GsonBuilder\n",
    "\n",
    "data.rows().shuffled().take(1).map {\n",
    "    val jsonString = it.diffParsedJson\n",
    "    DISPLAY(jsonString)\n",
    "    val gson = GsonBuilder().setPrettyPrinting().create()\n",
    "    val json = gson.fromJson(jsonString, JsonElement::class.java)\n",
    "    val niceJsonString = gson.toJson(json)\n",
    "    DISPLAY(niceJsonString)\n",
    "}"
   ],
   "metadata": {
    "collapsed": false,
    "ExecuteTime": {
     "end_time": "2023-11-08T01:01:52.410590689Z",
     "start_time": "2023-11-08T01:01:52.313365361Z"
    }
   }
  },
  {
   "cell_type": "code",
   "execution_count": 30,
   "outputs": [],
   "source": [
    "data class InterimResult3(\n",
    "    val cveId: String,\n",
    "    val ghsaId: String,\n",
    "    val groupArtifact: String,\n",
    "    val vulnIntroduced: String,\n",
    "    val latestVulnVersion: String,\n",
    "    val fixedVersion: String,\n",
    "    val fixCommitRepo: String,\n",
    "    val fixCommitHash: String,\n",
    "    val jarBefore: String,\n",
    "    val jarAfter: String,\n",
    "    val srcBefore: String,\n",
    "    val srcAfter: String,\n",
    "    val classFileBefore: String,\n",
    "    val classFileAfter: String,\n",
    "    val changedClass: String,\n",
    "    val changedMethods: String,\n",
    "    val packageIdBefore: String,\n",
    "    val packageIdAfter: String,\n",
    "    val diffJson: JsonElement,\n",
    "    val nloc: Int,\n",
    ")\n",
    "\n",
    "val newData = data\n",
    "    .rows()\n",
    "    .map {\n",
    "        val gson = GsonBuilder().setPrettyPrinting().create()\n",
    "        val json = gson.fromJson(it.diffParsedJson, JsonElement::class.java)\n",
    "        InterimResult3(\n",
    "            cveId = it.cveId,\n",
    "            ghsaId = it.ghsaId,\n",
    "            groupArtifact = it.packageName,\n",
    "            vulnIntroduced = it.vulnIntroduced,\n",
    "            latestVulnVersion = it.latestVulnVersion,\n",
    "            fixedVersion = it.fixedVersion,\n",
    "            fixCommitRepo = it.fixCommitRepo,\n",
    "            fixCommitHash = it.fixCommitHash,\n",
    "            jarBefore = it.jarBefore,\n",
    "            jarAfter = it.jarAfter,\n",
    "            srcBefore = it.srcBefore,\n",
    "            srcAfter = it.srcAfter,\n",
    "            classFileBefore = it.classFileBefore,\n",
    "            classFileAfter = it.classFileAfter,\n",
    "            changedClass = it.changedClass,\n",
    "            changedMethods = it.changedMethods,\n",
    "            packageIdBefore = it.packageIdBefore,\n",
    "            packageIdAfter = it.packageIdAfter,\n",
    "            diffJson = json,\n",
    "            nloc = it.nloc,\n",
    "        )\n",
    "    }"
   ],
   "metadata": {
    "collapsed": false,
    "ExecuteTime": {
     "end_time": "2023-11-08T01:10:22.140641398Z",
     "start_time": "2023-11-08T01:10:21.928965042Z"
    }
   }
  },
  {
   "cell_type": "code",
   "execution_count": 39,
   "outputs": [],
   "source": [
    "import io.ktor.util.*\n",
    "import java.io.FileOutputStream\n",
    "import java.io.OutputStreamWriter\n",
    "import java.nio.charset.Charset\n",
    "\n",
    "val gson = GsonBuilder().setPrettyPrinting().disableHtmlEscaping().create() \n",
    "val json = gson.toJson(newData)\n",
    "dataDir.resolve(\"proc/changes.v2.json\").writeText(json)"
   ],
   "metadata": {
    "collapsed": false,
    "ExecuteTime": {
     "end_time": "2023-11-08T01:22:27.229391812Z",
     "start_time": "2023-11-08T01:22:27.165239751Z"
    }
   }
  }
 ],
 "metadata": {
  "kernelspec": {
   "display_name": "Kotlin",
   "language": "kotlin",
   "name": "kotlin"
  },
  "language_info": {
   "name": "kotlin",
   "version": "1.9.0",
   "mimetype": "text/x-kotlin",
   "file_extension": ".kt",
   "pygments_lexer": "kotlin",
   "codemirror_mode": "text/x-kotlin",
   "nbconvert_exporter": ""
  },
  "ktnbPluginMetadata": {
   "projectDependencies": true
  }
 },
 "nbformat": 4,
 "nbformat_minor": 0
}
