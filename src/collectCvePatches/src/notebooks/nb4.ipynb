{
 "cells": [
  {
   "cell_type": "code",
   "execution_count": 1,
   "metadata": {
    "collapsed": true,
    "ExecuteTime": {
     "end_time": "2023-11-30T03:43:05.166899759Z",
     "start_time": "2023-11-30T03:43:04.939026581Z"
    }
   },
   "outputs": [
    {
     "data": {
      "text/plain": "/home/mm/w/jpatch/data"
     },
     "execution_count": 1,
     "metadata": {},
     "output_type": "execute_result"
    }
   ],
   "source": [
    "import io.github.cdimascio.dotenv.Dotenv\n",
    "import java.nio.file.Paths\n",
    "\n",
    "val dotenv = Dotenv.load()\n",
    "val dataDir = dotenv.get(\"DATA_DIR\").let { Paths.get(it).toFile() }.also { it.mkdirs() }\n",
    "dataDir"
   ]
  },
  {
   "cell_type": "code",
   "execution_count": 2,
   "metadata": {
    "collapsed": false,
    "ExecuteTime": {
     "end_time": "2023-11-30T03:43:05.816599577Z",
     "start_time": "2023-11-30T03:43:05.166236140Z"
    }
   },
   "outputs": [],
   "source": [
    "import kotlinx.serialization.Serializable\n",
    "\n",
    "// from previous notebook\n",
    "@Serializable\n",
    "data class InterimResult2(\n",
    "    val cveId: String,\n",
    "    val ghsaId: String,\n",
    "    val packageName: String,\n",
    "    val vulnIntroduced: String,\n",
    "    val latestVulnVersion: String,\n",
    "    val fixedVersion: String,\n",
    "    val fixCommitRepo: String,\n",
    "    val fixCommitHash: String,\n",
    "    val jarBefore: String,\n",
    "    val jarAfter: String,\n",
    "    val srcBefore: String,\n",
    "    val srcAfter: String,\n",
    "    val classFileBefore: String,\n",
    "    val classFileAfter: String,\n",
    "    val changedClass: String,\n",
    "    val changedMethods: String,\n",
    "    val packageIdBefore: String,\n",
    "    val packageIdAfter: String,\n",
    "    val diffParsedJson: String,\n",
    "    val nloc: Int,\n",
    ")"
   ]
  },
  {
   "cell_type": "code",
   "execution_count": 3,
   "metadata": {
    "collapsed": false,
    "ExecuteTime": {
     "end_time": "2023-11-30T03:43:07.055331404Z",
     "start_time": "2023-11-30T03:43:05.823012068Z"
    }
   },
   "outputs": [],
   "source": [
    "val data = DataFrame.readJson(dataDir.resolve(\"proc/changes.json\"))"
   ]
  },
  {
   "cell_type": "code",
   "execution_count": 5,
   "metadata": {
    "collapsed": false,
    "ExecuteTime": {
     "end_time": "2023-11-30T03:43:29.828717938Z",
     "start_time": "2023-11-30T03:43:29.581297735Z"
    }
   },
   "outputs": [
    {
     "data": {
      "text/plain": "{\"added\": [[226, \"     * @param pStrictChecking whether to a strict check (i.e. server side check)\"], [227, \"     * @return true if if cors access is allowed\"], [229, \"    public boolean isOriginAllowed(String pOrigin,boolean pStrictChecking) {\"], [230, \"        return restrictor.isOriginAllowed(pOrigin, pStrictChecking);\"]], \"deleted\": [[226, \"     * @return true if icors access is allowed\"], [228, \"    public boolean isCorsAccessAllowed(String pOrigin) {\"], [229, \"        return restrictor.isCorsAccessAllowed(pOrigin);\"]]}"
     },
     "metadata": {},
     "output_type": "display_data"
    },
    {
     "data": {
      "text/plain": "{\n  \"added\": [\n    [\n      226,\n      \"     * @param pStrictChecking whether to a strict check (i.e. server side check)\"\n    ],\n    [\n      227,\n      \"     * @return true if if cors access is allowed\"\n    ],\n    [\n      229,\n      \"    public boolean isOriginAllowed(String pOrigin,boolean pStrictChecking) {\"\n    ],\n    [\n      230,\n      \"        return restrictor.isOriginAllowed(pOrigin, pStrictChecking);\"\n    ]\n  ],\n  \"deleted\": [\n    [\n      226,\n      \"     * @return true if icors access is allowed\"\n    ],\n    [\n      228,\n      \"    public boolean isCorsAccessAllowed(String pOrigin) {\"\n    ],\n    [\n      229,\n      \"        return restrictor.isCorsAccessAllowed(pOrigin);\"\n    ]\n  ]\n}"
     },
     "metadata": {},
     "output_type": "display_data"
    },
    {
     "data": {
      "text/plain": "[kotlin.Unit]"
     },
     "execution_count": 5,
     "metadata": {},
     "output_type": "execute_result"
    }
   ],
   "source": [
    "import com.google.gson.GsonBuilder\n",
    "import com.google.gson.JsonElement\n",
    "\n",
    "data.rows().shuffled().take(1).map {\n",
    "    val jsonString = it.diffParsedJson\n",
    "    DISPLAY(jsonString)\n",
    "    val gson = GsonBuilder().setPrettyPrinting().create()\n",
    "    val json = gson.fromJson(jsonString, JsonElement::class.java)\n",
    "    val niceJsonString = gson.toJson(json)\n",
    "    DISPLAY(niceJsonString)\n",
    "}"
   ]
  },
  {
   "cell_type": "code",
   "execution_count": 25,
   "outputs": [
    {
     "data": {
      "text/plain": "[C3P0ConfigXmlUtils::extractXmlConfigFromInputStream, C3P0ConfigXmlUtils::extractXmlConfigFromDefaultResource, C3P0ConfigXmlUtils::extractXmlConfigFromDefaultResource, C3P0ConfigXmlUtils::attemptSetFeature, C3P0ConfigXmlUtils::extractXmlConfigFromInputStream, C3P0ConfigXmlUtils::cautionDocumentBuilderFactory]"
     },
     "metadata": {},
     "output_type": "display_data"
    },
    {
     "data": {
      "text/plain": "[\"C3P0ConfigXmlUtils::extractXmlConfigFromInputStream\", \"C3P0ConfigXmlUtils::extractXmlConfigFromDefaultResource\", \"C3P0ConfigXmlUtils::extractXmlConfigFromDefaultResource\", \"C3P0ConfigXmlUtils::attemptSetFeature\", \"C3P0ConfigXmlUtils::extractXmlConfigFromInputStream\", \"C3P0ConfigXmlUtils::cautionDocumentBuilderFactory\"]"
     },
     "metadata": {},
     "output_type": "display_data"
    },
    {
     "data": {
      "text/plain": "[\n  \"C3P0ConfigXmlUtils::extractXmlConfigFromInputStream\",\n  \"C3P0ConfigXmlUtils::extractXmlConfigFromDefaultResource\",\n  \"C3P0ConfigXmlUtils::extractXmlConfigFromDefaultResource\",\n  \"C3P0ConfigXmlUtils::attemptSetFeature\",\n  \"C3P0ConfigXmlUtils::extractXmlConfigFromInputStream\",\n  \"C3P0ConfigXmlUtils::cautionDocumentBuilderFactory\"\n]"
     },
     "metadata": {},
     "output_type": "display_data"
    },
    {
     "data": {
      "text/plain": "[kotlin.Unit]"
     },
     "execution_count": 25,
     "metadata": {},
     "output_type": "execute_result"
    }
   ],
   "source": [
    "import com.google.gson.JsonArray\n",
    "\n",
    "data.rows().shuffled().take(1).map {\n",
    "    val stringArray = it.changedMethods\n",
    "    DISPLAY(stringArray)\n",
    "    val elems = \"[\" + stringArray.trim().trim('[', ']').split(',').map { \"\\\"${it.trim()}\\\"\" }.joinToString(\", \") + \"]\"\n",
    "    DISPLAY(elems)\n",
    "    val gson = GsonBuilder().setPrettyPrinting().create()\n",
    "    val json = gson.fromJson(elems, JsonArray::class.java)\n",
    "    val niceJsonString = gson.toJson(json)\n",
    "    DISPLAY(niceJsonString)\n",
    "}"
   ],
   "metadata": {
    "collapsed": false,
    "ExecuteTime": {
     "end_time": "2023-11-30T03:50:43.356190785Z",
     "start_time": "2023-11-30T03:50:43.168265872Z"
    }
   }
  },
  {
   "cell_type": "code",
   "execution_count": 26,
   "metadata": {
    "collapsed": false,
    "ExecuteTime": {
     "end_time": "2023-11-30T03:51:31.008591833Z",
     "start_time": "2023-11-30T03:51:30.809551617Z"
    }
   },
   "outputs": [],
   "source": [
    "import com.google.gson.JsonArray\n",
    "\n",
    "data class InterimResult3(\n",
    "    val cveId: String,\n",
    "    val ghsaId: String,\n",
    "    val groupArtifact: String,\n",
    "    val vulnIntroduced: String,\n",
    "    val latestVulnVersion: String,\n",
    "    val fixedVersion: String,\n",
    "    val fixCommitRepo: String,\n",
    "    val fixCommitHash: String,\n",
    "    val jarBefore: String,\n",
    "    val jarAfter: String,\n",
    "    val srcBefore: String,\n",
    "    val srcAfter: String,\n",
    "    val classFileBefore: String,\n",
    "    val classFileAfter: String,\n",
    "    val changedClass: String,\n",
    "    val changedMethods: JsonArray,\n",
    "    val packageIdBefore: String,\n",
    "    val packageIdAfter: String,\n",
    "    val diffJson: JsonElement,\n",
    "    val nloc: Int,\n",
    ")\n",
    "\n",
    "val newData = data\n",
    "    .rows()\n",
    "    .map {\n",
    "        val gson = GsonBuilder().setPrettyPrinting().create()\n",
    "        val diffParsedJson = gson.fromJson(it.diffParsedJson, JsonElement::class.java)\n",
    "        val changedMethodsJson =\n",
    "            gson.fromJson(\"[\" + it.changedMethods.trim().trim('[', ']').split(',').map { \"\\\"${it.trim()}\\\"\" }\n",
    "                .joinToString(\", \") + \"]\", JsonArray::class.java)\n",
    "        \n",
    "        InterimResult3(\n",
    "            cveId = it.cveId,\n",
    "            ghsaId = it.ghsaId,\n",
    "            groupArtifact = it.packageName,\n",
    "            vulnIntroduced = it.vulnIntroduced,\n",
    "            latestVulnVersion = it.latestVulnVersion,\n",
    "            fixedVersion = it.fixedVersion,\n",
    "            fixCommitRepo = it.fixCommitRepo,\n",
    "            fixCommitHash = it.fixCommitHash,\n",
    "            jarBefore = it.jarBefore,\n",
    "            jarAfter = it.jarAfter,\n",
    "            srcBefore = it.srcBefore,\n",
    "            srcAfter = it.srcAfter,\n",
    "            classFileBefore = it.classFileBefore,\n",
    "            classFileAfter = it.classFileAfter,\n",
    "            changedClass = it.changedClass,\n",
    "            changedMethods = changedMethodsJson,\n",
    "            packageIdBefore = it.packageIdBefore,\n",
    "            packageIdAfter = it.packageIdAfter,\n",
    "            diffJson = diffParsedJson,\n",
    "            nloc = it.nloc,\n",
    "        )\n",
    "    }"
   ]
  },
  {
   "cell_type": "code",
   "execution_count": 27,
   "metadata": {
    "collapsed": false,
    "ExecuteTime": {
     "end_time": "2023-11-30T03:51:34.458926061Z",
     "start_time": "2023-11-30T03:51:34.340549433Z"
    }
   },
   "outputs": [],
   "source": [
    "import io.ktor.util.*\n",
    "import java.io.FileOutputStream\n",
    "import java.io.OutputStreamWriter\n",
    "import java.nio.charset.Charset\n",
    "\n",
    "val gson = GsonBuilder().setPrettyPrinting().disableHtmlEscaping().create() \n",
    "val json = gson.toJson(newData)\n",
    "dataDir.resolve(\"proc/changes.v2.json\").writeText(json)"
   ]
  }
 ],
 "metadata": {
  "kernelspec": {
   "display_name": "Kotlin",
   "language": "kotlin",
   "name": "kotlin"
  },
  "ktnbPluginMetadata": {
   "projectDependencies": true
  },
  "language_info": {
   "codemirror_mode": "text/x-kotlin",
   "file_extension": ".kt",
   "mimetype": "text/x-kotlin",
   "name": "kotlin",
   "nbconvert_exporter": "",
   "pygments_lexer": "kotlin",
   "version": "1.9.0"
  }
 },
 "nbformat": 4,
 "nbformat_minor": 0
}
