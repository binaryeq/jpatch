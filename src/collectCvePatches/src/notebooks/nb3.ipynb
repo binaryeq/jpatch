{
 "cells": [
  {
   "cell_type": "code",
   "execution_count": null,
   "metadata": {
    "collapsed": true
   },
   "outputs": [],
   "source": [
    "import io.github.cdimascio.dotenv.Dotenv\n",
    "import java.nio.file.Paths\n",
    "\n",
    "val dotenv = Dotenv.load()\n",
    "val dataDir = dotenv.get(\"DATA_DIR\").let { Paths.get(it).toFile() }.also { it.mkdirs() }\n",
    "dataDir"
   ]
  },
  {
   "cell_type": "code",
   "execution_count": 2,
   "outputs": [],
   "source": [
    "import com.google.gson.Gson\n",
    "import com.google.gson.reflect.TypeToken\n",
    "\n",
    "data class ChangesFromGitDataItem(\n",
    "    val cveId: String,\n",
    "    val ghsaId: String,\n",
    "    val packageName: String,\n",
    "    val vulnIntroduced: String,\n",
    "    val latestVulnVersion: String,\n",
    "    val vulnFixed: String,\n",
    "    val fixCommitRepo: String,\n",
    "    val fixCommitHash: String,\n",
    "    val commitHashFromGit: String,\n",
    "    val modifiedFilePathBefore: String,\n",
    "    val modifiedFilePathAfter: String,\n",
    "    val modifiedFileSrcBefore: String,\n",
    "    val modifiedFileSrcAfter: String,\n",
    "    val diffParsedJson: String,\n",
    "    val nloc: Int,\n",
    "    val changedMethods: List<String>,\n",
    ")"
   ],
   "metadata": {
    "collapsed": false,
    "ExecuteTime": {
     "end_time": "2023-11-08T00:52:04.936935278Z",
     "start_time": "2023-11-08T00:52:04.676652816Z"
    }
   }
  },
  {
   "cell_type": "code",
   "execution_count": 3,
   "outputs": [
    {
     "data": {
      "text/plain": "639"
     },
     "execution_count": 3,
     "metadata": {},
     "output_type": "execute_result"
    }
   ],
   "source": [
    "import com.google.gson.Gson\n",
    "import kotlinx.serialization.json.Json\n",
    "\n",
    "val changesFromGit = Gson().fromJson<List<ChangesFromGitDataItem>>(dataDir.resolve(\"interim\").resolve(\"changes_from_git.json\").readText(), object: TypeToken<List<ChangesFromGitDataItem>>() {}.type)\n",
    "changesFromGit.count()"
   ],
   "metadata": {
    "collapsed": false,
    "ExecuteTime": {
     "end_time": "2023-11-08T00:52:05.510210961Z",
     "start_time": "2023-11-08T00:52:04.937806911Z"
    }
   }
  },
  {
   "cell_type": "code",
   "execution_count": 4,
   "outputs": [],
   "source": [
    "import com.google.common.hash.Hashing\n",
    "import io.ktor.client.*\n",
    "import io.ktor.client.call.*\n",
    "import io.ktor.client.engine.cio.*\n",
    "import io.ktor.client.plugins.*\n",
    "import io.ktor.client.request.*\n",
    "import io.ktor.client.statement.*\n",
    "import kotlinx.coroutines.Dispatchers\n",
    "import kotlinx.coroutines.async\n",
    "import kotlinx.coroutines.awaitAll\n",
    "import kotlinx.coroutines.runBlocking\n",
    "\n",
    "val jarsDir = dataDir.resolve(\"interim/jars\").also { it.mkdirs() }\n",
    "\n",
    "fun packageNameToUrl(packageName: String): String {\n",
    "    val parts = packageName.split(\":\")\n",
    "    return parts[0].replace('.', '/') + \"/\" + parts[1]\n",
    "}\n",
    "\n",
    "fun gavToJarUrl(packageName: String, version: String): String {\n",
    "    val parts = packageName.split(\":\")\n",
    "    return parts[0].replace('.', '/') + \"/\" + parts[1] + \"/\" + version + \"/\" + parts[1] + \"-\" + version + \".jar\"\n",
    "}\n",
    "\n",
    "val httpClient = HttpClient() {\n",
    "    install(HttpTimeout) {\n",
    "        requestTimeoutMillis = 120_000\n",
    "    }\n",
    "}\n",
    "\n",
    "fun downloadJar(packageName: String, version: String, repoUrl: String): Boolean = runBlocking {\n",
    "    val jarUrl = gavToJarUrl(packageName, version)\n",
    "    val jarPath = jarsDir.resolve(jarUrl).also { it.parentFile.mkdirs() }\n",
    "    val jarMd5 = httpClient\n",
    "        .get(\"$repoUrl/$jarUrl.md5\")\n",
    "        .let {\n",
    "            if (it.status.value == 200) {\n",
    "                return@let it\n",
    "            }\n",
    "            println(\"http error ${it.status.value} for md5 of $packageName ($repoUrl/$jarUrl)\")\n",
    "            return@let null\n",
    "        }?.bodyAsText()\n",
    "        ?.split(\"\\\\s+\".toRegex())\n",
    "        ?.first()\n",
    "    \n",
    "    if (jarPath.isFile && jarMd5 != null) {\n",
    "        if (com.google.common.io.Files.asByteSource(jarPath).hash(Hashing.md5()).toString() == jarMd5)\n",
    "            return@runBlocking true\n",
    "        println(\"corrupt file: ${jarUrl}\")\n",
    "    }\n",
    "    \n",
    "    val result = httpClient\n",
    "        .get(\"$repoUrl/$jarUrl\")\n",
    "        .let {\n",
    "            if (it.status.value == 200) {\n",
    "                return@let it\n",
    "            }\n",
    "            println(\"http error ${it.status.value} for $packageName ($repoUrl/$jarUrl)\")\n",
    "            return@runBlocking false\n",
    "        }\n",
    "\n",
    "    val jarBytes = result.readBytes()\n",
    "    jarPath.writeBytes(jarBytes)\n",
    "    true\n",
    "}"
   ],
   "metadata": {
    "collapsed": false,
    "ExecuteTime": {
     "end_time": "2023-11-08T00:52:06.307222398Z",
     "start_time": "2023-11-08T00:52:05.508306194Z"
    }
   }
  },
  {
   "cell_type": "code",
   "execution_count": null,
   "outputs": [],
   "source": [
    "import java.util.*\n",
    "\n",
    "val dispatcher = Dispatchers.IO.limitedParallelism(8)\n",
    "\n",
    "val jarsFromMaven =\n",
    "    runBlocking {\n",
    "        changesFromGit\n",
    "            .flatMap {\n",
    "                sequence {\n",
    "                    yield(Pair(it.packageName, it.latestVulnVersion))\n",
    "                    yield(Pair(it.packageName, it.vulnFixed))\n",
    "                }\n",
    "            }\n",
    "            .toSet()\n",
    "            .map {\n",
    "                async(dispatcher) {\n",
    "                    try {\n",
    "                        val succ = downloadJar(it.first, it.second, \"https://repo1.maven.org/maven2\")\n",
    "                        if (succ)\n",
    "                            return@async it\n",
    "                        else\n",
    "                            return@async null\n",
    "                    } catch (e: Exception) {\n",
    "                        println(\"error downloading jar ${gavToJarUrl(it.first, it.second)}\")\n",
    "                        println(e.message)\n",
    "                        throw e\n",
    "                    }\n",
    "                }\n",
    "            }.awaitAll()\n",
    "            .filterNotNull()\n",
    "    }\n",
    "\n",
    "DISPLAY(jarsFromMaven.count())"
   ],
   "metadata": {
    "collapsed": false
   }
  },
  {
   "cell_type": "code",
   "execution_count": null,
   "outputs": [],
   "source": [
    "val jarsFromJenkins =\n",
    "    runBlocking {\n",
    "        changesFromGit\n",
    "            .flatMap {\n",
    "                sequence {\n",
    "                    yield(Pair(it.packageName, it.latestVulnVersion))\n",
    "                    yield(Pair(it.packageName, it.vulnFixed))\n",
    "                }\n",
    "            }\n",
    "            .filterNot {\n",
    "                jarsFromMaven.contains(it)\n",
    "            }\n",
    "            .toSet()\n",
    "            .map {\n",
    "                async(dispatcher) {\n",
    "                    try {\n",
    "                        val succ = downloadJar(it.first, it.second, \"https://repo.jenkins-ci.org/releases\")\n",
    "                        if (succ)\n",
    "                            return@async it\n",
    "                        else\n",
    "                            return@async null\n",
    "                    } catch (e: Exception) {\n",
    "                        println(\"error downloading jar ${gavToJarUrl(it.first, it.second)}\")\n",
    "                        throw e\n",
    "                    }\n",
    "                }\n",
    "            }.awaitAll()\n",
    "            .filterNotNull()\n",
    "    }\n",
    "\n",
    "DISPLAY(jarsFromJenkins.count())"
   ],
   "metadata": {
    "collapsed": false
   }
  },
  {
   "cell_type": "markdown",
   "source": [
    "264 jars from Maven Central and 17 jars from Jenkins"
   ],
   "metadata": {
    "collapsed": false
   }
  },
  {
   "cell_type": "code",
   "execution_count": 7,
   "outputs": [
    {
     "data": {
      "text/plain": "281"
     },
     "execution_count": 7,
     "metadata": {},
     "output_type": "execute_result"
    }
   ],
   "source": [
    "val packageToJar = (jarsFromMaven + jarsFromJenkins)\n",
    "    .map {\n",
    "        it to jarsDir.resolve(gavToJarUrl(it.first, it.second))\n",
    "    }.toMap()\n",
    "packageToJar.count()"
   ],
   "metadata": {
    "collapsed": false,
    "ExecuteTime": {
     "end_time": "2023-11-08T00:53:30.392509640Z",
     "start_time": "2023-11-08T00:53:30.229281218Z"
    }
   }
  },
  {
   "cell_type": "code",
   "execution_count": 8,
   "outputs": [
    {
     "data": {
      "text/plain": "CVE-2013-1965"
     },
     "metadata": {},
     "output_type": "display_data"
    },
    {
     "data": {
      "text/plain": "[OgnlUtil::isEvalExpression, OgnlUtil::getValue, OgnlUtil::copy, OgnlUtil::setEnableEvalExpression, OgnlUtil::compile, OgnlUtil::getValue, OgnlUtil::setValue, OgnlUtil::compile]"
     },
     "metadata": {},
     "output_type": "display_data"
    },
    {
     "data": {
      "text/plain": "xwork-core/src/main/java/com/opensymphony/xwork2/ognl/OgnlUtil.java"
     },
     "metadata": {},
     "output_type": "display_data"
    },
    {
     "data": {
      "text/plain": "com.opensymphony.xwork2.ognl"
     },
     "metadata": {},
     "output_type": "display_data"
    }
   ],
   "source": [
    "import com.github.javaparser.JavaParser\n",
    "\n",
    "val parser = JavaParser()\n",
    "\n",
    "fun getPackageId(src: String): String {\n",
    "    try {\n",
    "        return parser.parse(src).result.get().packageDeclaration.get().nameAsString\n",
    "    } catch (e: Exception) {\n",
    "        return src.lines().firstNotNullOf { l ->\n",
    "            \"^package\\\\s+([a-zA_Z_][\\\\.\\\\w]*);\".toRegex().find(l)?.groupValues?.get(1)    // java parser has problem with malformed java files\n",
    "        }\n",
    "    }\n",
    "}\n",
    "\n",
    "val randomItem = changesFromGit.random()\n",
    "DISPLAY(randomItem.cveId)\n",
    "DISPLAY(randomItem.changedMethods)\n",
    "DISPLAY(randomItem.modifiedFilePathBefore)\n",
    "\n",
    "val randomSrc =\n",
    "    randomItem.modifiedFileSrcBefore\n",
    "\n",
    "DISPLAY(getPackageId(randomSrc))"
   ],
   "metadata": {
    "collapsed": false,
    "ExecuteTime": {
     "end_time": "2023-11-08T00:53:30.758566995Z",
     "start_time": "2023-11-08T00:53:30.391871481Z"
    }
   }
  },
  {
   "cell_type": "code",
   "execution_count": 9,
   "outputs": [
    {
     "data": {
      "text/plain": "639"
     },
     "metadata": {},
     "output_type": "display_data"
    },
    {
     "data": {
      "text/plain": "584"
     },
     "execution_count": 9,
     "metadata": {},
     "output_type": "execute_result"
    }
   ],
   "source": [
    "DISPLAY(changesFromGit.count())\n",
    "changesFromGit.filter {\n",
    "    it.changedMethods.count() > 0\n",
    "}.count()"
   ],
   "metadata": {
    "collapsed": false,
    "ExecuteTime": {
     "end_time": "2023-11-08T00:53:30.849285743Z",
     "start_time": "2023-11-08T00:53:30.758016766Z"
    }
   }
  },
  {
   "cell_type": "markdown",
   "source": [
    "55 file changes will be discarded because they don't change any methods"
   ],
   "metadata": {
    "collapsed": false
   }
  },
  {
   "cell_type": "code",
   "execution_count": 10,
   "outputs": [
    {
     "data": {
      "text/plain": "629"
     },
     "execution_count": 10,
     "metadata": {},
     "output_type": "execute_result"
    }
   ],
   "source": [
    "changesFromGit\n",
    "    .filter {\n",
    "        it.changedMethods.count() > 0\n",
    "    }\n",
    "    .map {\n",
    "        val changedClasses = it.changedMethods\n",
    "            .map {\n",
    "                it.split(\"::\").asReversed().drop(1).asReversed().joinToString(\"$\") to it\n",
    "            }.groupBy { it.first }\n",
    "            .map { it.key to it.value.map { it.second } }\n",
    "            .toMap()\n",
    "        \n",
    "        changedClasses.keys.count()\n",
    "    }.sum()  "
   ],
   "metadata": {
    "collapsed": false,
    "ExecuteTime": {
     "end_time": "2023-11-08T00:53:31.115833865Z",
     "start_time": "2023-11-08T00:53:30.846331876Z"
    }
   }
  },
  {
   "cell_type": "code",
   "execution_count": 11,
   "outputs": [
    {
     "data": {
      "text/plain": "569"
     },
     "execution_count": 11,
     "metadata": {},
     "output_type": "execute_result"
    }
   ],
   "source": [
    "changesFromGit\n",
    "    .filter {\n",
    "        it.changedMethods.count() > 0\n",
    "    }\n",
    "    .filter {\n",
    "        packageToJar[Pair(it.packageName, it.latestVulnVersion)] != null &&\n",
    "        packageToJar[Pair(it.packageName, it.vulnFixed)] != null\n",
    "    }\n",
    "    .map {\n",
    "        val changedClasses = it.changedMethods\n",
    "            .map {\n",
    "                it.split(\"::\").asReversed().drop(1).asReversed().joinToString(\"$\") to it\n",
    "            }.groupBy { it.first }\n",
    "            .map { it.key to it.value.map { it.second } }\n",
    "            .toMap()\n",
    "        \n",
    "        changedClasses.keys.count()\n",
    "    }.sum()  "
   ],
   "metadata": {
    "collapsed": false,
    "ExecuteTime": {
     "end_time": "2023-11-08T00:53:31.332409297Z",
     "start_time": "2023-11-08T00:53:31.114522346Z"
    }
   }
  },
  {
   "cell_type": "code",
   "execution_count": 12,
   "outputs": [],
   "source": [
    "import java.util.concurrent.atomic.AtomicInteger\n",
    "import java.util.zip.ZipFile\n",
    "\n",
    "val noJar = AtomicInteger(0)\n",
    "\n",
    "fun loadClassFile(jar: File, classFilePath: String): ByteArray? {\n",
    "    if (!jar.isFile) {\n",
    "        noJar.incrementAndGet()\n",
    "        return null\n",
    "    }\n",
    "    \n",
    "    val jarAsZip = ZipFile(jar)\n",
    "    val entry = jarAsZip.getEntry(classFilePath)\n",
    "    if (entry == null)\n",
    "        return null\n",
    "    \n",
    "    val content = jarAsZip.getInputStream(entry).readAllBytes()\n",
    "    return content\n",
    "}"
   ],
   "metadata": {
    "collapsed": false,
    "ExecuteTime": {
     "end_time": "2023-11-08T00:53:31.422795241Z",
     "start_time": "2023-11-08T00:53:31.330592193Z"
    }
   }
  },
  {
   "cell_type": "code",
   "execution_count": 13,
   "outputs": [],
   "source": [
    "data class InterimResult2(\n",
    "    val cveId: String,\n",
    "    val ghsaId: String,\n",
    "    val packageName: String,\n",
    "    val vulnIntroduced: String,\n",
    "    val latestVulnVersion: String,\n",
    "    val fixedVersion: String,\n",
    "    val fixCommitRepo: String,\n",
    "    val fixCommitHash: String,\n",
    "    val jarBefore: String,\n",
    "    val jarAfter: String,\n",
    "    val srcBefore: String,\n",
    "    val srcAfter: String,\n",
    "    val classFileBefore: String,\n",
    "    val classFileAfter: String,\n",
    "    val changedClass: String,\n",
    "    val changedMethods: String,\n",
    "    val packageIdBefore: String,\n",
    "    val packageIdAfter: String,\n",
    "    val diffParsedJson: String,\n",
    "    val nloc: Int,\n",
    ")"
   ],
   "metadata": {
    "collapsed": false,
    "ExecuteTime": {
     "end_time": "2023-11-08T00:53:31.556904555Z",
     "start_time": "2023-11-08T00:53:31.421939580Z"
    }
   }
  },
  {
   "cell_type": "code",
   "execution_count": null,
   "outputs": [],
   "source": [
    "import com.github.javaparser.JavaParser\n",
    "import org.apache.commons.csv.CSVFormat\n",
    "import kotlin.io.path.Path\n",
    "import kotlin.io.path.name\n",
    "import kotlin.io.path.nameWithoutExtension\n",
    "\n",
    "val changesDir = dataDir.resolve(\"proc/changes\").also { it.mkdirs() }\n",
    "\n",
    "fun getFullClassName(compilationUnit: String, className: String) =\n",
    "    compilationUnit + \".\" + className\n",
    "\n",
    "fun fullClassNameToPath(fullClassName: String) =\n",
    "    fullClassName.replace('.', '/')\n",
    "\n",
    "fun res() =\n",
    "    changesFromGit\n",
    "        .filter {\n",
    "            it.changedMethods.count() > 0\n",
    "        }\n",
    "        .filter {\n",
    "            packageToJar[Pair(it.packageName, it.latestVulnVersion)] != null &&\n",
    "                    packageToJar[Pair(it.packageName, it.vulnFixed)] != null\n",
    "        }\n",
    "        .flatMap {\n",
    "            val changedClasses = it.changedMethods\n",
    "                .map {\n",
    "                    it.split(\"::\").asReversed().drop(1).asReversed().joinToString(\"$\") to it\n",
    "                }.groupBy { it.first }\n",
    "                .map { it.key to it.value.map { it.second } }\n",
    "                .toMap()\n",
    "\n",
    "            val packageIdBefore = getPackageId(it.modifiedFileSrcBefore)\n",
    "            val packageIdAfter = getPackageId(it.modifiedFileSrcAfter)\n",
    "\n",
    "            changedClasses\n",
    "                .map inner@{ cc ->\n",
    "                    val changedClass = cc.key\n",
    "                    val changedMethods = cc.value\n",
    "\n",
    "                    val beforePath = packageIdBefore.replace('.', '/') + \"/\" + changedClass + \".class\"\n",
    "                    val afterPath = packageIdAfter.replace('.', '/') + \"/\" + changedClass + \".class\"\n",
    "                    val beforeContent =\n",
    "                        loadClassFile(packageToJar[Pair(it.packageName, it.latestVulnVersion)]!!, beforePath)\n",
    "                    val afterContent =\n",
    "                        loadClassFile(packageToJar[Pair(it.packageName, it.vulnFixed)]!!, afterPath)\n",
    "\n",
    "                    if (beforeContent == null || afterContent == null || beforeContent contentEquals afterContent)\n",
    "                        return@inner null\n",
    "\n",
    "                    val artifactId = it.packageName.split(\":\")[1]\n",
    "\n",
    "                    val chCommitDir = changesDir.resolve(it.cveId).resolve(it.commitHashFromGit).also { it.mkdirs() }\n",
    "                    val beforeDir = chCommitDir.resolve(\"before\").also { it.mkdirs() }\n",
    "                    val afterDir = chCommitDir.resolve(\"after\").also { it.mkdirs() }\n",
    "\n",
    "                    val jarBefore = packageToJar[Pair(it.packageName, it.latestVulnVersion)]!!.readBytes()\n",
    "                    val jarAfter = packageToJar[Pair(it.packageName, it.vulnFixed)]!!.readBytes()\n",
    "\n",
    "                    val jarPathBefore = beforeDir\n",
    "                        .resolve(\"jar\")\n",
    "                        .also { it.mkdirs() }\n",
    "                        .resolve(\"$artifactId-${it.latestVulnVersion}.jar\")\n",
    "                        .also { it.writeBytes(jarBefore) }\n",
    "\n",
    "                    val jarPathAfter = afterDir\n",
    "                        .resolve(\"jar\")\n",
    "                        .also { it.mkdirs() }\n",
    "                        .resolve(\"$artifactId-${it.vulnFixed}.jar\")\n",
    "                        .also { it.writeBytes(jarAfter) }\n",
    "\n",
    "                    val javaPathBefore = beforeDir\n",
    "                        .resolve(\"java\")\n",
    "                        .also { it.mkdirs() }\n",
    "                        .resolve(\"\"\"${it.modifiedFilePathBefore}\"\"\")\n",
    "                        .also { it.parentFile.mkdirs() }\n",
    "                        .also { f -> f.writeText(it.modifiedFileSrcBefore) }\n",
    "\n",
    "                    val javaPathAfter = afterDir\n",
    "                        .resolve(\"java\")\n",
    "                        .also { it.mkdirs() }\n",
    "                        .resolve(\"\"\"${it.modifiedFilePathAfter}\"\"\")\n",
    "                        .also { it.parentFile.mkdirs() }\n",
    "                        .also { f -> f.writeText(it.modifiedFileSrcAfter) }\n",
    "\n",
    "                    val classPathBefore = beforeDir\n",
    "                        .resolve(\"class\")\n",
    "                        .also { it.mkdirs() }\n",
    "                        .resolve(\"\"\"${Path(it.modifiedFilePathBefore).parent}${File.separatorChar}${changedClass}.class\"\"\")\n",
    "                        .also { it.parentFile.mkdirs() }\n",
    "                        .also { it.writeBytes(beforeContent) }\n",
    "\n",
    "                    val classPathAfter = afterDir\n",
    "                        .resolve(\"class\")\n",
    "                        .also { it.mkdirs() }\n",
    "                        .resolve(\"\"\"${Path(it.modifiedFilePathAfter).parent}${File.separatorChar}${changedClass}.class\"\"\")\n",
    "                        .also { it.parentFile.mkdirs() }\n",
    "                        .also { it.writeBytes(afterContent) }\n",
    "\n",
    "                    InterimResult2(\n",
    "                        cveId = it.cveId,\n",
    "                        ghsaId = it.ghsaId,\n",
    "                        packageName = it.packageName,\n",
    "                        vulnIntroduced = it.vulnIntroduced,\n",
    "                        latestVulnVersion = it.latestVulnVersion,\n",
    "                        fixedVersion = it.vulnFixed,\n",
    "                        fixCommitRepo = it.fixCommitRepo,\n",
    "                        fixCommitHash = it.commitHashFromGit,\n",
    "                        jarBefore = jarPathBefore.relativeTo(dataDir).toString(),\n",
    "                        jarAfter = jarPathAfter.relativeTo(dataDir).toString(),\n",
    "                        srcBefore = javaPathBefore.relativeTo(dataDir).toString(),\n",
    "                        srcAfter = javaPathAfter.relativeTo(dataDir).toString(),\n",
    "                        classFileBefore = classPathBefore.relativeTo(dataDir).toString(),\n",
    "                        classFileAfter = classPathAfter.relativeTo(dataDir).toString(),\n",
    "                        changedClass = changedClass,\n",
    "                        changedMethods = \"[\" + changedMethods.joinToString(\", \") + \"]\",\n",
    "                        packageIdBefore = packageIdBefore,\n",
    "                        packageIdAfter = packageIdAfter,\n",
    "                        diffParsedJson = it.diffParsedJson,\n",
    "                        nloc = it.nloc,\n",
    "                    )\n",
    "                }.filterNotNull()\n",
    "        }.toList()\n",
    "\n",
    "val res = res()"
   ],
   "metadata": {
    "collapsed": false
   }
  },
  {
   "cell_type": "code",
   "execution_count": 19,
   "outputs": [],
   "source": [
    "res.toDataFrame().writeCSV(dataDir.resolve(\"proc/changes.tsv\"), format = CSVFormat.DEFAULT.withDelimiter('\\t'))\n",
    "res.toDataFrame().writeJson(dataDir.resolve(\"proc/changes.json\"), prettyPrint = true)"
   ],
   "metadata": {
    "collapsed": false,
    "ExecuteTime": {
     "end_time": "2023-11-08T00:58:11.212999408Z",
     "start_time": "2023-11-08T00:58:11.107952687Z"
    }
   }
  },
  {
   "cell_type": "markdown",
   "source": [
    "There are 326 many cases that a .class file cannot be found in the jar.\n",
    "\n",
    "manual investigation:\n",
    "- many cases of wrong artifactId in GHSA (eg CVE-2019-10093)\n",
    "- 186 cases of test classes\n",
    "\n",
    "There are 28 cases of identical .class files.\n",
    "\n",
    "manual investigation:\n",
    "- GHSA even has errors in version numbers: CVE-2013-7285"
   ],
   "metadata": {
    "collapsed": false
   }
  },
  {
   "cell_type": "code",
   "execution_count": 15,
   "outputs": [
    {
     "data": {
      "text/plain": "209"
     },
     "execution_count": 15,
     "metadata": {},
     "output_type": "execute_result"
    }
   ],
   "source": [
    "res.count()"
   ],
   "metadata": {
    "collapsed": false,
    "ExecuteTime": {
     "end_time": "2023-11-08T00:55:38.581797501Z",
     "start_time": "2023-11-08T00:55:38.524755726Z"
    }
   }
  }
 ],
 "metadata": {
  "kernelspec": {
   "display_name": "Kotlin",
   "language": "kotlin",
   "name": "kotlin"
  },
  "language_info": {
   "name": "kotlin",
   "version": "1.9.0",
   "mimetype": "text/x-kotlin",
   "file_extension": ".kt",
   "pygments_lexer": "kotlin",
   "codemirror_mode": "text/x-kotlin",
   "nbconvert_exporter": ""
  },
  "ktnbPluginMetadata": {
   "projectDependencies": true
  }
 },
 "nbformat": 4,
 "nbformat_minor": 0
}
