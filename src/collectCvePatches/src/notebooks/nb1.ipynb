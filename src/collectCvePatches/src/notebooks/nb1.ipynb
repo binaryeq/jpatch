{
 "cells": [
  {
   "cell_type": "code",
   "execution_count": 5,
   "metadata": {
    "collapsed": true,
    "ExecuteTime": {
     "end_time": "2023-11-04T14:18:23.352503100Z",
     "start_time": "2023-11-04T14:18:22.893686200Z"
    }
   },
   "outputs": [
    {
     "name": "stderr",
     "output_type": "stream",
     "text": [
      "A Koin Application has already been started\r\n",
      "org.koin.core.error.KoinAppAlreadyStartedException: A Koin Application has already been started\r\n",
      "\tat org.koin.core.context.GlobalContext.register(GlobalContext.kt:44)\r\n",
      "\tat org.koin.core.context.GlobalContext.startKoin(GlobalContext.kt:63)\r\n",
      "\tat org.koin.core.context.DefaultContextExtKt.startKoin(DefaultContextExt.kt:40)\r\n",
      "\tat MainKt.setupServices(Main.kt:47)\r\n",
      "\tat Line_8_jupyter.<init>(Line_8.jupyter.kts:1)\r\n",
      "\tat java.base/jdk.internal.reflect.NativeConstructorAccessorImpl.newInstance0(Native Method)\r\n",
      "\tat java.base/jdk.internal.reflect.NativeConstructorAccessorImpl.newInstance(NativeConstructorAccessorImpl.java:77)\r\n",
      "\tat java.base/jdk.internal.reflect.DelegatingConstructorAccessorImpl.newInstance(DelegatingConstructorAccessorImpl.java:45)\r\n",
      "\tat java.base/java.lang.reflect.Constructor.newInstanceWithCaller(Constructor.java:499)\r\n",
      "\tat java.base/java.lang.reflect.Constructor.newInstance(Constructor.java:480)\r\n",
      "\tat kotlin.script.experimental.jvm.BasicJvmScriptEvaluator.evalWithConfigAndOtherScriptsResults(BasicJvmScriptEvaluator.kt:105)\r\n",
      "\tat kotlin.script.experimental.jvm.BasicJvmScriptEvaluator.invoke$suspendImpl(BasicJvmScriptEvaluator.kt:47)\r\n",
      "\tat kotlin.script.experimental.jvm.BasicJvmScriptEvaluator.invoke(BasicJvmScriptEvaluator.kt)\r\n",
      "\tat kotlin.script.experimental.jvm.BasicJvmReplEvaluator.eval(BasicJvmReplEvaluator.kt:49)\r\n",
      "\tat org.jetbrains.kotlinx.jupyter.repl.impl.InternalEvaluatorImpl$eval$resultWithDiagnostics$1.invokeSuspend(InternalEvaluatorImpl.kt:107)\r\n",
      "\tat kotlin.coroutines.jvm.internal.BaseContinuationImpl.resumeWith(ContinuationImpl.kt:33)\r\n",
      "\tat kotlinx.coroutines.DispatchedTask.run(DispatchedTask.kt:106)\r\n",
      "\tat kotlinx.coroutines.EventLoopImplBase.processNextEvent(EventLoop.common.kt:284)\r\n",
      "\tat kotlinx.coroutines.BlockingCoroutine.joinBlocking(Builders.kt:85)\r\n",
      "\tat kotlinx.coroutines.BuildersKt__BuildersKt.runBlocking(Builders.kt:59)\r\n",
      "\tat kotlinx.coroutines.BuildersKt.runBlocking(Unknown Source)\r\n",
      "\tat kotlinx.coroutines.BuildersKt__BuildersKt.runBlocking$default(Builders.kt:38)\r\n",
      "\tat kotlinx.coroutines.BuildersKt.runBlocking$default(Unknown Source)\r\n",
      "\tat org.jetbrains.kotlinx.jupyter.repl.impl.InternalEvaluatorImpl.eval(InternalEvaluatorImpl.kt:107)\r\n",
      "\tat org.jetbrains.kotlinx.jupyter.repl.impl.CellExecutorImpl$execute$1$result$1.invoke(CellExecutorImpl.kt:78)\r\n",
      "\tat org.jetbrains.kotlinx.jupyter.repl.impl.CellExecutorImpl$execute$1$result$1.invoke(CellExecutorImpl.kt:76)\r\n",
      "\tat org.jetbrains.kotlinx.jupyter.ReplForJupyterImpl.withHost(repl.kt:681)\r\n",
      "\tat org.jetbrains.kotlinx.jupyter.repl.impl.CellExecutorImpl.execute(CellExecutorImpl.kt:76)\r\n",
      "\tat org.jetbrains.kotlinx.jupyter.repl.CellExecutor$DefaultImpls.execute$default(CellExecutor.kt:16)\r\n",
      "\tat org.jetbrains.kotlinx.jupyter.ReplForJupyterImpl$evalEx$1.invoke(repl.kt:496)\r\n",
      "\tat org.jetbrains.kotlinx.jupyter.ReplForJupyterImpl$evalEx$1.invoke(repl.kt:474)\r\n",
      "\tat org.jetbrains.kotlinx.jupyter.ReplForJupyterImpl.withEvalContext(repl.kt:437)\r\n",
      "\tat org.jetbrains.kotlinx.jupyter.ReplForJupyterImpl.evalEx(repl.kt:474)\r\n",
      "\tat org.jetbrains.kotlinx.jupyter.messaging.ProtocolKt$shellMessagesHandler$2$res$1.invoke(protocol.kt:320)\r\n",
      "\tat org.jetbrains.kotlinx.jupyter.messaging.ProtocolKt$shellMessagesHandler$2$res$1.invoke(protocol.kt:314)\r\n",
      "\tat org.jetbrains.kotlinx.jupyter.JupyterExecutorImpl$runExecution$execThread$1.invoke(execution.kt:38)\r\n",
      "\tat org.jetbrains.kotlinx.jupyter.JupyterExecutorImpl$runExecution$execThread$1.invoke(execution.kt:33)\r\n",
      "\tat kotlin.concurrent.ThreadsKt$thread$thread$1.run(Thread.kt:30)\r\n"
     ]
    }
   ],
   "source": [
    "setupServices()"
   ]
  },
  {
   "cell_type": "code",
   "execution_count": null,
   "outputs": [],
   "source": [
    "import io.github.cdimascio.dotenv.Dotenv\n",
    "import java.nio.file.Paths\n",
    "\n",
    "val dotenv = Dotenv.load()\n",
    "val dataDir = dotenv.get(\"DATA_DIR\").let { Paths.get(it).toFile() }.also { it.mkdirs() }\n",
    "dataDir"
   ],
   "metadata": {
    "collapsed": false
   }
  },
  {
   "cell_type": "code",
   "execution_count": 7,
   "outputs": [],
   "source": [
    "import core.githubAdvisory.GhsaDataProvider\n",
    "import core.projectKb.KbDataProvider\n",
    "import org.koin.core.component.KoinComponent\n",
    "import org.koin.core.component.get\n",
    "\n",
    "class K: KoinComponent {\n",
    "    val kbDataProvider = get<KbDataProvider>()\n",
    "    val ghsaDataProvider = get<GhsaDataProvider>()\n",
    "}\n",
    "\n",
    "val k = K()"
   ],
   "metadata": {
    "collapsed": false,
    "ExecuteTime": {
     "end_time": "2023-11-04T14:18:23.388521100Z",
     "start_time": "2023-11-04T14:18:23.091936400Z"
    }
   }
  },
  {
   "cell_type": "code",
   "execution_count": 8,
   "outputs": [
    {
     "data": {
      "text/plain": "1297"
     },
     "execution_count": 8,
     "metadata": {},
     "output_type": "execute_result"
    }
   ],
   "source": [
    "val statements = k.kbDataProvider.getStatements()\n",
    "statements.count()"
   ],
   "metadata": {
    "collapsed": false,
    "ExecuteTime": {
     "end_time": "2023-11-04T14:18:23.598090800Z",
     "start_time": "2023-11-04T14:18:23.196982800Z"
    }
   }
  },
  {
   "cell_type": "code",
   "execution_count": 9,
   "outputs": [
    {
     "data": {
      "text/plain": "617"
     },
     "metadata": {},
     "output_type": "display_data"
    },
    {
     "data": {
      "text/plain": "1215"
     },
     "metadata": {},
     "output_type": "display_data"
    },
    {
     "data": {
      "text/plain": "535"
     },
     "metadata": {},
     "output_type": "display_data"
    }
   ],
   "source": [
    "DISPLAY(statements.filter { it.artifacts != null }.count())\n",
    "DISPLAY(statements.filter { it.fixes != null }.count())\n",
    "DISPLAY(statements.filter { it.artifacts != null && it.fixes != null }.count())"
   ],
   "metadata": {
    "collapsed": false,
    "ExecuteTime": {
     "end_time": "2023-11-04T14:18:23.916313600Z",
     "start_time": "2023-11-04T14:18:23.447032800Z"
    }
   }
  },
  {
   "cell_type": "code",
   "execution_count": 10,
   "outputs": [
    {
     "data": {
      "text/plain": "3989"
     },
     "execution_count": 10,
     "metadata": {},
     "output_type": "execute_result"
    }
   ],
   "source": [
    "val ghsaJsonData = k.ghsaDataProvider.getJsonData()\n",
    "ghsaJsonData.count()"
   ],
   "metadata": {
    "collapsed": false,
    "ExecuteTime": {
     "end_time": "2023-11-04T14:18:24.021838300Z",
     "start_time": "2023-11-04T14:18:23.901316700Z"
    }
   }
  },
  {
   "cell_type": "code",
   "execution_count": 11,
   "outputs": [
    {
     "data": {
      "text/plain": "3989"
     },
     "execution_count": 11,
     "metadata": {},
     "output_type": "execute_result"
    }
   ],
   "source": [
    "ghsaJsonData.filter { it.affected.count() > 0 }.count()"
   ],
   "metadata": {
    "collapsed": false,
    "ExecuteTime": {
     "end_time": "2023-11-04T14:18:24.205877400Z",
     "start_time": "2023-11-04T14:18:24.011837200Z"
    }
   }
  },
  {
   "cell_type": "code",
   "execution_count": 12,
   "outputs": [],
   "source": [
    "data class ResultDataItem(\n",
    "    val cveId: String?,\n",
    "    val sapKbVulnId: String?,\n",
    "    val sapKbUrl: String?,\n",
    "    val ghsaUrl: String?,\n",
    "    val ghsaId: String?,\n",
    "    val commitUrl: String?,\n",
    "    val latestVulnGav: String?,\n",
    "    val earliestFixedGav: String?,\n",
    "    val affectedSourcePath: String?,\n",
    "    val latestVulnJarPath: String?,\n",
    "    val earliestFixedJarPath: String?,\n",
    "    val affectedClassFilePath: String?,\n",
    "    val affectedClassFileName: String?,\n",
    ")"
   ],
   "metadata": {
    "collapsed": false,
    "ExecuteTime": {
     "end_time": "2023-11-04T14:18:24.485870600Z",
     "start_time": "2023-11-04T14:18:24.202879100Z"
    }
   }
  },
  {
   "cell_type": "code",
   "execution_count": 13,
   "outputs": [],
   "source": [
    "val kbCveToStatement = statements.groupBy { it.vulnerabilityID }.map { it.key to it.value.first() }.toMap()"
   ],
   "metadata": {
    "collapsed": false,
    "ExecuteTime": {
     "end_time": "2023-11-04T14:18:24.732425500Z",
     "start_time": "2023-11-04T14:18:24.486869Z"
    }
   }
  },
  {
   "cell_type": "code",
   "execution_count": 14,
   "outputs": [
    {
     "data": {
      "text/plain": "666"
     },
     "execution_count": 14,
     "metadata": {},
     "output_type": "execute_result"
    }
   ],
   "source": [
    "val kbGhsaData = ghsaJsonData.map {\n",
    "        val matchedCve = it.aliases.filter { kbCveToStatement.keys.contains(it) }.firstOrNull()\n",
    "        if (matchedCve == null)\n",
    "            return@map null\n",
    "        Pair(matchedCve, it)\n",
    "    }.filterNotNull()\n",
    "    .map {\n",
    "        Pair(it.first, Pair(it.second, kbCveToStatement[it.first]!!))        \n",
    "    }.toMap()\n",
    "    \n",
    "kbGhsaData.count()"
   ],
   "metadata": {
    "collapsed": false,
    "ExecuteTime": {
     "end_time": "2023-11-04T14:18:24.976467300Z",
     "start_time": "2023-11-04T14:18:24.714424400Z"
    }
   }
  },
  {
   "cell_type": "code",
   "execution_count": 15,
   "outputs": [],
   "source": [
    "// ranges array in GHSA always has only 1 element (or its null)\n",
    "kbGhsaData.forEach {\n",
    "    it.value.first.affected.forEach {\n",
    "        if (it.ranges != null && it.ranges!!.count() != 1) {\n",
    "            println(\"should not be possible\")\n",
    "        }\n",
    "    }\n",
    "}"
   ],
   "metadata": {
    "collapsed": false,
    "ExecuteTime": {
     "end_time": "2023-11-04T14:18:25.110103300Z",
     "start_time": "2023-11-04T14:18:24.975465200Z"
    }
   }
  },
  {
   "cell_type": "code",
   "execution_count": 16,
   "outputs": [
    {
     "name": "stdout",
     "output_type": "stream",
     "text": [
      "CVE-2019-12402\r\n",
      "CVE-2018-10237\r\n",
      "CVE-2021-44228\r\n",
      "CVE-2018-1131\r\n"
     ]
    },
    {
     "data": {
      "text/plain": "4"
     },
     "execution_count": 16,
     "metadata": {},
     "output_type": "execute_result"
    }
   ],
   "source": [
    "kbGhsaData.filter { \n",
    "    it.value.first.affected.any { it.ranges == null && it.versions != null }\n",
    " }.map {\n",
    "     println(it.key)\n",
    "     it\n",
    " }\n",
    " .count()"
   ],
   "metadata": {
    "collapsed": false,
    "ExecuteTime": {
     "end_time": "2023-11-04T14:18:25.284631Z",
     "start_time": "2023-11-04T14:18:25.113104500Z"
    }
   }
  },
  {
   "cell_type": "markdown",
   "source": [
    "CVE-2021-44228 (log4j) records in both GHSA and SAP-KB mentions artifacts from projects other than the original apache repository. But the commits are only from apache repository. "
   ],
   "metadata": {
    "collapsed": false
   }
  },
  {
   "cell_type": "code",
   "execution_count": 17,
   "outputs": [
    {
     "data": {
      "text/plain": "total: 666"
     },
     "metadata": {},
     "output_type": "display_data"
    },
    {
     "data": {
      "text/plain": "single affected: 365"
     },
     "metadata": {},
     "output_type": "display_data"
    },
    {
     "data": {
      "text/plain": "single branch: 481"
     },
     "metadata": {},
     "output_type": "display_data"
    },
    {
     "data": {
      "text/plain": "single commit: 385"
     },
     "metadata": {},
     "output_type": "display_data"
    },
    {
     "data": {
      "text/plain": "single affected & single branch: 305"
     },
     "metadata": {},
     "output_type": "display_data"
    },
    {
     "data": {
      "text/plain": "single affected & single commit: 270"
     },
     "metadata": {},
     "output_type": "display_data"
    }
   ],
   "source": [
    "// how many records will be left if we only consider single-commit-single-affected-package?\n",
    "DISPLAY(\"total: \" + kbGhsaData.count())\n",
    "\n",
    "DISPLAY(\n",
    "    \"single affected: \" + kbGhsaData.filter {\n",
    "        it.value.first.affected.count() == 1\n",
    "    }.count()\n",
    ")\n",
    "\n",
    "DISPLAY(\n",
    "    \"single branch: \" + kbGhsaData.filter {\n",
    "        it.value.second.fixes != null && it.value.second.fixes!!.count() == 1\n",
    "    }.count()\n",
    ")\n",
    "\n",
    "DISPLAY(\"single commit: \" + kbGhsaData.filter {\n",
    "    it.value.second.fixes != null && it.value.second.fixes!!.count() == 1\n",
    "}.filter {\n",
    "    it.value.second.fixes!!.first().commits.count() == 1\n",
    "}.count())\n",
    "\n",
    "DISPLAY(\"single affected & single branch: \" + kbGhsaData.filter {\n",
    "    it.value.second.fixes != null && it.value.second.fixes!!.count() == 1\n",
    "}.filter {\n",
    "    it.value.first.affected.count() == 1\n",
    "}.count()\n",
    ")\n",
    "\n",
    "DISPLAY(\"single affected & single commit: \" + kbGhsaData.filter {\n",
    "    it.value.second.fixes != null && it.value.second.fixes!!.count() == 1\n",
    "}.filter {\n",
    "    it.value.second.fixes!!.first().commits.count() == 1\n",
    "}.filter {\n",
    "    it.value.first.affected.count() == 1\n",
    "}\n",
    ".count())"
   ],
   "metadata": {
    "collapsed": false,
    "ExecuteTime": {
     "end_time": "2023-11-04T14:18:26.103166500Z",
     "start_time": "2023-11-04T14:18:25.279623Z"
    }
   }
  },
  {
   "cell_type": "markdown",
   "source": [
    "We will continue with \"single affected & single commit\" records"
   ],
   "metadata": {
    "collapsed": false
   }
  },
  {
   "cell_type": "markdown",
   "source": [
    "First let's investigate what actually \"last_affected\" means. "
   ],
   "metadata": {
    "collapsed": false
   }
  },
  {
   "cell_type": "code",
   "execution_count": 18,
   "outputs": [
    {
     "data": {
      "text/plain": "15"
     },
     "metadata": {},
     "output_type": "display_data"
    }
   ],
   "source": [
    "val singularKbGhsaData = kbGhsaData.filter {\n",
    "    it.value.second.fixes != null && it.value.second.fixes!!.count() == 1\n",
    "}.filter {\n",
    "    it.value.second.fixes!!.first().commits.count() == 1\n",
    "}.filter {\n",
    "    it.value.first.affected.count() == 1\n",
    "}\n",
    "//.filter {\n",
    "//    val e = it.value.first.affected.first().ranges!!.first().events\n",
    "//    val intro = e.first { it.introduced != null }.introduced\n",
    "//    val lastAffected = e.firstOrNull() { it.lastAffected != null }?.lastAffected\n",
    "//    val fixed = e.firstOrNull() { it.fixed != null }?.fixed\n",
    "//    intro == \"0\"\n",
    "//}\n",
    ".filter {\n",
    "    it.value.first.affected.first().ranges!!.first().events.any { e -> e.lastAffected != null }\n",
    "}\n",
    "\n",
    "DISPLAY(singularKbGhsaData.count())\n",
    "//DISPLAY(singularKbGhsaData.toList().random())"
   ],
   "metadata": {
    "collapsed": false,
    "ExecuteTime": {
     "end_time": "2023-11-04T14:18:26.298207800Z",
     "start_time": "2023-11-04T14:18:25.968113500Z"
    }
   }
  },
  {
   "cell_type": "markdown",
   "source": [
    "It does not have a clear and coherent meaning. It seems most likely to be the last version known to be vulnerable at the time of adding the record in GHSA. "
   ],
   "metadata": {
    "collapsed": false
   }
  },
  {
   "cell_type": "markdown",
   "source": [
    "Notes:\n",
    "- During the investigation I have seen a few records with wrong package name. For example: org.apache.struts:struts-master\n",
    "- There are so many records with the \"introduced\" field value of \"0\". I have cross-checked them with snyk database and they seem to be wrong. There are actual introduced versions in snyk database that is not recorded in GHSA."
   ],
   "metadata": {
    "collapsed": false
   }
  },
  {
   "cell_type": "markdown",
   "source": [
    "OK. Let's continue with the \"single affected & single commit\" records without the ones that have \"last_affected\""
   ],
   "metadata": {
    "collapsed": false
   }
  },
  {
   "cell_type": "code",
   "execution_count": 19,
   "outputs": [
    {
     "data": {
      "text/plain": "255"
     },
     "metadata": {},
     "output_type": "display_data"
    }
   ],
   "source": [
    "val singularKbGhsaData = kbGhsaData.filter {\n",
    "    it.value.second.fixes != null && it.value.second.fixes!!.count() == 1\n",
    "}.filter {\n",
    "    it.value.second.fixes!!.first().commits.count() == 1\n",
    "}.filter {\n",
    "    it.value.first.affected.count() == 1\n",
    "}\n",
    ".filter {\n",
    "    it.value.first.affected.first().ranges!!.first().events.any { e -> e.fixed != null }\n",
    "}\n",
    "\n",
    "DISPLAY(singularKbGhsaData.count())\n",
    "//DISPLAY(singularKbGhsaData.toList().random())"
   ],
   "metadata": {
    "collapsed": false,
    "ExecuteTime": {
     "end_time": "2023-11-04T14:18:26.829839Z",
     "start_time": "2023-11-04T14:18:26.288701900Z"
    }
   }
  },
  {
   "cell_type": "code",
   "execution_count": 20,
   "outputs": [
    {
     "data": {
      "text/html": "            <iframe onload=\"o_resize_iframe_out_1()\" style=\"width:100%;\" class=\"result_container\" id=\"iframe_out_1\" frameBorder=\"0\" srcdoc=\"        &lt;html theme='dark'&gt;\n        &lt;head&gt;\n            &lt;style type=&quot;text&sol;css&quot;&gt;\n                :root {\n    --background: #fff;\n    --background-odd: #f5f5f5;\n    --background-hover: #d9edfd;\n    --header-text-color: #474747;\n    --text-color: #848484;\n    --text-color-dark: #000;\n    --text-color-medium: #737373;\n    --text-color-pale: #b3b3b3;\n    --inner-border-color: #aaa;\n    --bold-border-color: #000;\n    --link-color: #296eaa;\n    --link-color-pale: #296eaa;\n    --link-hover: #1a466c;\n}\n\n:root[theme=&quot;dark&quot;], :root [data-jp-theme-light=&quot;false&quot;], .dataframe_dark{\n    --background: #303030;\n    --background-odd: #3c3c3c;\n    --background-hover: #464646;\n    --header-text-color: #dddddd;\n    --text-color: #b3b3b3;\n    --text-color-dark: #dddddd;\n    --text-color-medium: #b2b2b2;\n    --text-color-pale: #737373;\n    --inner-border-color: #707070;\n    --bold-border-color: #777777;\n    --link-color: #008dc0;\n    --link-color-pale: #97e1fb;\n    --link-hover: #00688e;\n}\n\np.dataframe_description {\n    color: var(--text-color-dark);\n}\n\ntable.dataframe {\n    font-family: &quot;Helvetica Neue&quot;, Helvetica, Arial, sans-serif;\n    font-size: 12px;\n    background-color: var(--background);\n    color: var(--text-color-dark);\n    border: none;\n    border-collapse: collapse;\n}\n\ntable.dataframe th, td {\n    padding: 6px;\n    border: 1px solid transparent;\n    text-align: left;\n}\n\ntable.dataframe th {\n    background-color: var(--background);\n    color: var(--header-text-color);\n}\n\ntable.dataframe td {\n    vertical-align: top;\n}\n\ntable.dataframe th.bottomBorder {\n    border-bottom-color: var(--bold-border-color);\n}\n\ntable.dataframe tbody &gt; tr:nth-child(odd) {\n    background: var(--background-odd);\n}\n\ntable.dataframe tbody &gt; tr:nth-child(even) {\n    background: var(--background);\n}\n\ntable.dataframe tbody &gt; tr:hover {\n    background: var(--background-hover);\n}\n\ntable.dataframe a {\n    cursor: pointer;\n    color: var(--link-color);\n    text-decoration: none;\n}\n\ntable.dataframe tr:hover &gt; td a {\n    color: var(--link-color-pale);\n}\n\ntable.dataframe a:hover {\n    color: var(--link-hover);\n    text-decoration: underline;\n}\n\ntable.dataframe img {\n    max-width: fit-content;\n}\n\ntable.dataframe th.complex {\n    background-color: var(--background);\n    border: 1px solid var(--background);\n}\n\ntable.dataframe .leftBorder {\n    border-left-color: var(--inner-border-color);\n}\n\ntable.dataframe .rightBorder {\n    border-right-color: var(--inner-border-color);\n}\n\ntable.dataframe .rightAlign {\n    text-align: right;\n}\n\ntable.dataframe .expanderSvg {\n    width: 8px;\n    height: 8px;\n    margin-right: 3px;\n}\n\ntable.dataframe .expander {\n    display: flex;\n    align-items: center;\n}\n\n&sol;* formatting *&sol;\n\ntable.dataframe .null {\n    color: var(--text-color-pale);\n}\n\ntable.dataframe .structural {\n    color: var(--text-color-medium);\n    font-weight: bold;\n}\n\ntable.dataframe .dataFrameCaption {\n    font-weight: bold;\n}\n\ntable.dataframe .numbers {\n    color: var(--text-color-dark);\n}\n\ntable.dataframe td:hover .formatted .structural, .null {\n    color: var(--text-color-dark);\n}\n\ntable.dataframe tr:hover .formatted .structural, .null {\n    color: var(--text-color-dark);\n}\n\n\n\n\n:root {\n    --scroll-bg: #f5f5f5;\n    --scroll-fg: #b3b3b3;\n}\n:root[theme=&quot;dark&quot;], :root [data-jp-theme-light=&quot;false&quot;]{\n    --scroll-bg: #3c3c3c;\n    --scroll-fg: #97e1fb;\n}\nbody {\n    scrollbar-color: var(--scroll-fg) var(--scroll-bg);\n}\nbody::-webkit-scrollbar {\n    width: 10px; &sol;* Mostly for vertical scrollbars *&sol;\n    height: 10px; &sol;* Mostly for horizontal scrollbars *&sol;\n}\nbody::-webkit-scrollbar-thumb {\n    background-color: var(--scroll-fg);\n}\nbody::-webkit-scrollbar-track {\n    background-color: var(--scroll-bg);\n}\n            &lt;&sol;style&gt;\n        &lt;&sol;head&gt;\n        &lt;body&gt;\n            \n&lt;table class=&quot;dataframe&quot; id=&quot;df_-1493172224&quot;&gt;&lt;&sol;table&gt;\n\n&lt;p class=&quot;dataframe_description&quot;&gt;... showing only top 20 of 255 rows&lt;&sol;p&gt;&lt;p class=&quot;dataframe_description&quot;&gt;DataFrame: rowsCount = 255, columnsCount = 5&lt;&sol;p&gt;\n\n        &lt;&sol;body&gt;\n        &lt;script&gt;\n            (function () {\n    window.DataFrame = window.DataFrame || new (function () {\n        this.addTable = function (df) {\n            let cols = df.cols;\n            for (let i = 0; i &lt; cols.length; i++) {\n                for (let c of cols[i].children) {\n                    cols[c].parent = i;\n                }\n            }\n            df.nrow = 0\n            for (let i = 0; i &lt; df.cols.length; i++) {\n                if (df.cols[i].values.length &gt; df.nrow) df.nrow = df.cols[i].values.length\n            }\n            if (df.id === df.rootId) {\n                df.expandedFrames = new Set()\n                df.childFrames = {}\n                const table = this.getTableElement(df.id)\n                table.df = df\n                for (let i = 0; i &lt; df.cols.length; i++) {\n                    let col = df.cols[i]\n                    if (col.parent === undefined &amp;&amp; col.children.length &gt; 0) col.expanded = true\n                }\n            } else {\n                const rootDf = this.getTableData(df.rootId)\n                rootDf.childFrames[df.id] = df\n            }\n        }\n\n        this.computeRenderData = function (df) {\n            let result = []\n            let pos = 0\n            for (let col = 0; col &lt; df.cols.length; col++) {\n                if (df.cols[col].parent === undefined)\n                    pos += this.computeRenderDataRec(df.cols, col, pos, 0, result, false, false)\n            }\n            for (let i = 0; i &lt; result.length; i++) {\n                let row = result[i]\n                for (let j = 0; j &lt; row.length; j++) {\n                    let cell = row[j]\n                    if (j === 0)\n                        cell.leftBd = false\n                    if (j &lt; row.length - 1) {\n                        let nextData = row[j + 1]\n                        if (nextData.leftBd) cell.rightBd = true\n                        else if (cell.rightBd) nextData.leftBd = true\n                    } else cell.rightBd = false\n                }\n            }\n            return result\n        }\n\n        this.computeRenderDataRec = function (cols, colId, pos, depth, result, leftBorder, rightBorder) {\n            if (result.length === depth) {\n                const array = [];\n                if (pos &gt; 0) {\n                    let j = 0\n                    for (let i = 0; j &lt; pos; i++) {\n                        let c = result[depth - 1][i]\n                        j += c.span\n                        let copy = Object.assign({empty: true}, c)\n                        array.push(copy)\n                    }\n                }\n                result.push(array)\n            }\n            const col = cols[colId];\n            let size = 0;\n            if (col.expanded) {\n                let childPos = pos\n                for (let i = 0; i &lt; col.children.length; i++) {\n                    let child = col.children[i]\n                    let childLeft = i === 0 &amp;&amp; (col.children.length &gt; 1 || leftBorder)\n                    let childRight = i === col.children.length - 1 &amp;&amp; (col.children.length &gt; 1 || rightBorder)\n                    let childSize = this.computeRenderDataRec(cols, child, childPos, depth + 1, result, childLeft, childRight)\n                    childPos += childSize\n                    size += childSize\n                }\n            } else {\n                for (let i = depth + 1; i &lt; result.length; i++)\n                    result[i].push({id: colId, span: 1, leftBd: leftBorder, rightBd: rightBorder, empty: true})\n                size = 1\n            }\n            let left = leftBorder\n            let right = rightBorder\n            if (size &gt; 1) {\n                left = true\n                right = true\n            }\n            result[depth].push({id: colId, span: size, leftBd: left, rightBd: right})\n            return size\n        }\n\n        this.getTableElement = function (id) {\n            return document.getElementById(&quot;df_&quot; + id)\n        }\n\n        this.getTableData = function (id) {\n            return this.getTableElement(id).df\n        }\n\n        this.createExpander = function (isExpanded) {\n            const svgNs = &quot;http:&sol;&sol;www.w3.org&sol;2000&sol;svg&quot;\n            let svg = document.createElementNS(svgNs, &quot;svg&quot;)\n            svg.classList.add(&quot;expanderSvg&quot;)\n            let path = document.createElementNS(svgNs, &quot;path&quot;)\n            if (isExpanded) {\n                svg.setAttribute(&quot;viewBox&quot;, &quot;0 -2 8 8&quot;)\n                path.setAttribute(&quot;d&quot;, &quot;M1 0 l-1 1 4 4 4 -4 -1 -1 -3 3Z&quot;)\n            } else {\n                svg.setAttribute(&quot;viewBox&quot;, &quot;-2 0 8 8&quot;)\n                path.setAttribute(&quot;d&quot;, &quot;M1 0 l-1 1 3 3 -3 3 1 1 4 -4Z&quot;)\n            }\n            path.setAttribute(&quot;fill&quot;, &quot;currentColor&quot;)\n            svg.appendChild(path)\n            return svg\n        }\n\n        this.renderTable = function (id) {\n\n            let table = this.getTableElement(id)\n\n            if (table === null) return\n\n            table.innerHTML = &quot;&quot;\n\n            let df = table.df\n            let rootDf = df.rootId === df.id ? df : this.getTableData(df.rootId)\n\n            &sol;&sol; header\n            let header = document.createElement(&quot;thead&quot;)\n            table.appendChild(header)\n\n            let renderData = this.computeRenderData(df)\n            for (let j = 0; j &lt; renderData.length; j++) {\n                let rowData = renderData[j]\n                let tr = document.createElement(&quot;tr&quot;);\n                let isLastRow = j === renderData.length - 1\n                header.appendChild(tr);\n                for (let i = 0; i &lt; rowData.length; i++) {\n                    let cell = rowData[i]\n                    let th = document.createElement(&quot;th&quot;);\n                    th.setAttribute(&quot;colspan&quot;, cell.span)\n                    let colId = cell.id\n                    let col = df.cols[colId];\n                    if (!cell.empty) {\n                        if (col.children.length === 0) {\n                            th.innerHTML = col.name\n                        } else {\n                            let link = document.createElement(&quot;a&quot;)\n                            link.className = &quot;expander&quot;\n                            let that = this\n                            link.onclick = function () {\n                                col.expanded = !col.expanded\n                                that.renderTable(id)\n                            }\n                            link.appendChild(this.createExpander(col.expanded))\n                            link.innerHTML += col.name\n                            th.appendChild(link)\n                        }\n                    }\n                    let classes = (cell.leftBd ? &quot; leftBorder&quot; : &quot;&quot;) + (cell.rightBd ? &quot; rightBorder&quot; : &quot;&quot;)\n                    if (col.rightAlign)\n                        classes += &quot; rightAlign&quot;\n                    if (isLastRow)\n                        classes += &quot; bottomBorder&quot;\n                    if (classes.length &gt; 0)\n                        th.setAttribute(&quot;class&quot;, classes)\n                    tr.appendChild(th)\n                }\n            }\n\n            &sol;&sol; body\n            let body = document.createElement(&quot;tbody&quot;)\n            table.appendChild(body)\n\n            let columns = renderData.pop()\n            for (let row = 0; row &lt; df.nrow; row++) {\n                let tr = document.createElement(&quot;tr&quot;);\n                body.appendChild(tr)\n                for (let i = 0; i &lt; columns.length; i++) {\n                    let cell = columns[i]\n                    let td = document.createElement(&quot;td&quot;);\n                    let colId = cell.id\n                    let col = df.cols[colId]\n                    let classes = (cell.leftBd ? &quot; leftBorder&quot; : &quot;&quot;) + (cell.rightBd ? &quot; rightBorder&quot; : &quot;&quot;)\n                    if (col.rightAlign)\n                        classes += &quot; rightAlign&quot;\n                    if (classes.length &gt; 0)\n                        td.setAttribute(&quot;class&quot;, classes)\n                    tr.appendChild(td)\n                    let value = col.values[row]\n                    if (value.frameId !== undefined) {\n                        let frameId = value.frameId\n                        let expanded = rootDf.expandedFrames.has(frameId)\n                        let link = document.createElement(&quot;a&quot;)\n                        link.className = &quot;expander&quot;\n                        let that = this\n                        link.onclick = function () {\n                            if (rootDf.expandedFrames.has(frameId))\n                                rootDf.expandedFrames.delete(frameId)\n                            else rootDf.expandedFrames.add(frameId)\n                            that.renderTable(id)\n                        }\n                        link.appendChild(this.createExpander(expanded))\n                        link.innerHTML += value.value\n                        if (expanded) {\n                            td.appendChild(link)\n                            td.appendChild(document.createElement(&quot;p&quot;))\n                            const childTable = document.createElement(&quot;table&quot;)\n                            childTable.className = &quot;dataframe&quot;\n                            childTable.id = &quot;df_&quot; + frameId\n                            let childDf = rootDf.childFrames[frameId]\n                            childTable.df = childDf\n                            td.appendChild(childTable)\n                            this.renderTable(frameId)\n                            if (childDf.nrow !== childDf.totalRows) {\n                                const footer = document.createElement(&quot;p&quot;)\n                                footer.innerText = `... showing only top ${childDf.nrow} of ${childDf.totalRows} rows`\n                                td.appendChild(footer)\n                            }\n                        } else {\n                            td.appendChild(link)\n                        }\n                    } else if (value.style !== undefined) {\n                        td.innerHTML = value.value\n                        td.setAttribute(&quot;style&quot;, value.style)\n                    } else td.innerHTML = value\n                    this.nodeScriptReplace(td)\n                }\n            }\n        }\n\n        this.nodeScriptReplace = function (node) {\n            if (this.nodeScriptIs(node) === true) {\n                node.parentNode.replaceChild(this.nodeScriptClone(node), node);\n            } else {\n                let i = -1, children = node.childNodes;\n                while (++i &lt; children.length) {\n                    this.nodeScriptReplace(children[i]);\n                }\n            }\n\n            return node;\n        }\n\n        this.nodeScriptClone = function (node) {\n            let script = document.createElement(&quot;script&quot;);\n            script.text = node.innerHTML;\n\n            let i = -1, attrs = node.attributes, attr;\n            while (++i &lt; attrs.length) {\n                script.setAttribute((attr = attrs[i]).name, attr.value);\n            }\n            return script;\n        }\n\n        this.nodeScriptIs = function (node) {\n            return node.tagName === 'SCRIPT';\n        }\n    })()\n\n    window.call_DataFrame = function (f) {\n        return f();\n    };\n\n    let funQueue = window[&quot;kotlinQueues&quot;] &amp;&amp; window[&quot;kotlinQueues&quot;][&quot;DataFrame&quot;];\n    if (funQueue) {\n        funQueue.forEach(function (f) {\n            f();\n        });\n        funQueue = [];\n    }\n})()\n\n&sol;*&lt;!--*&sol;\ncall_DataFrame(function() { DataFrame.addTable({ cols: [{ name: &quot;&lt;span title=&bsol;&quot;cveId: String&bsol;&quot;&gt;cveId&lt;&sol;span&gt;&quot;, children: [], rightAlign: false, values: [&quot;CVE-2018-1327&quot;,&quot;CVE-2017-2670&quot;,&quot;CVE-2018-12541&quot;,&quot;CVE-2018-17785&quot;,&quot;CVE-2018-10936&quot;,&quot;CVE-2018-12418&quot;,&quot;CVE-2016-10006&quot;,&quot;CVE-2018-12537&quot;,&quot;CVE-2018-15531&quot;,&quot;CVE-2018-11761&quot;,&quot;CVE-2016-8629&quot;,&quot;CVE-2016-4977&quot;,&quot;CVE-2018-8030&quot;,&quot;CVE-2016-4800&quot;,&quot;CVE-2016-9177&quot;,&quot;CVE-2016-6805&quot;,&quot;CVE-2017-14063&quot;,&quot;CVE-2017-7672&quot;,&quot;CVE-2015-3271&quot;,&quot;CVE-2018-1295&quot;] }, \n{ name: &quot;&lt;span title=&bsol;&quot;ghsaId: String&bsol;&quot;&gt;ghsaId&lt;&sol;span&gt;&quot;, children: [], rightAlign: false, values: [&quot;GHSA-38cr-2ph5-frr9&quot;,&quot;GHSA-3x7h-5hfr-hvjm&quot;,&quot;GHSA-45xm-v8gq-7jqx&quot;,&quot;GHSA-4r64-wf76-c53p&quot;,&quot;GHSA-568q-9fw5-28wf&quot;,&quot;GHSA-5xqr-grq4-qwgx&quot;,&quot;GHSA-683w-6h9j-57wq&quot;,&quot;GHSA-6cw8-7j6c-hccp&quot;,&quot;GHSA-6fvx-r7hx-3vh6&quot;,&quot;GHSA-6jq2-789q-fff2&quot;,&quot;GHSA-778x-2mqv-w6xw&quot;,&quot;GHSA-7q9c-h23x-65fq&quot;,&quot;GHSA-7xr3-rgwh-pw22&quot;,&quot;GHSA-872g-2h8h-362q&quot;,&quot;GHSA-89gc-6cw6-4vch&quot;,&quot;GHSA-8qfc-cvjp-mgpq&quot;,&quot;GHSA-93jq-624g-4p9p&quot;,&quot;GHSA-9gp7-jvm2-r4mx&quot;,&quot;GHSA-ccjp-w723-2jf2&quot;,&quot;GHSA-chp4-rv79-68j3&quot;] }, \n{ name: &quot;&lt;span title=&bsol;&quot;sapKbId: String&bsol;&quot;&gt;sapKbId&lt;&sol;span&gt;&quot;, children: [], rightAlign: false, values: [&quot;CVE-2018-1327&quot;,&quot;CVE-2017-2670&quot;,&quot;CVE-2018-12541&quot;,&quot;CVE-2018-17785&quot;,&quot;CVE-2018-10936&quot;,&quot;CVE-2018-12418&quot;,&quot;CVE-2016-10006&quot;,&quot;CVE-2018-12537&quot;,&quot;CVE-2018-15531&quot;,&quot;CVE-2018-11761&quot;,&quot;CVE-2016-8629&quot;,&quot;CVE-2016-4977&quot;,&quot;CVE-2018-8030&quot;,&quot;CVE-2016-4800&quot;,&quot;CVE-2016-9177&quot;,&quot;CVE-2016-6805&quot;,&quot;CVE-2017-14063&quot;,&quot;CVE-2017-7672&quot;,&quot;CVE-2015-3271&quot;,&quot;CVE-2018-1295&quot;] }, \n{ name: &quot;&lt;span title=&bsol;&quot;vulnFixed: String&bsol;&quot;&gt;vulnFixed&lt;&sol;span&gt;&quot;, children: [], rightAlign: false, values: [&quot;2.5.16&quot;,&quot;1.3.28&quot;,&quot;3.5.4&quot;,&quot;0.39.7&quot;,&quot;42.2.5&quot;,&quot;1.0.1&quot;,&quot;1.5.5&quot;,&quot;3.5.2&quot;,&quot;1.74.0&quot;,&quot;1.19.1&quot;,&quot;2.4.0&quot;,&quot;2.0.10&quot;,&quot;7.0.5&quot;,&quot;9.3.9&quot;,&quot;2.5.2&quot;,&quot;1.9&quot;,&quot;2.0.35&quot;,&quot;2.5.12&quot;,&quot;1.10&quot;,&quot;2.4&quot;] }, \n{ name: &quot;&lt;span title=&bsol;&quot;vulnIntroduced: String&bsol;&quot;&gt;vulnIntroduced&lt;&sol;span&gt;&quot;, children: [], rightAlign: false, values: [&quot;0&quot;,&quot;0&quot;,&quot;3.0.0&quot;,&quot;0&quot;,&quot;0&quot;,&quot;0&quot;,&quot;0&quot;,&quot;3.0.0&quot;,&quot;0&quot;,&quot;0.1&quot;,&quot;0&quot;,&quot;0&quot;,&quot;7.0.0&quot;,&quot;9.3.0&quot;,&quot;0&quot;,&quot;0&quot;,&quot;0&quot;,&quot;2.5.0&quot;,&quot;0&quot;,&quot;0&quot;] }, \n], id: -1493172224, rootId: -1493172224, totalRows: 255 } ) });\n&sol;*--&gt;*&sol;\n\ncall_DataFrame(function() { DataFrame.renderTable(-1493172224) });\n\n\n\n        &lt;&sol;script&gt;\n        &lt;&sol;html&gt;\"></iframe>\n            <script>\n                function o_resize_iframe_out_1() {\n                    let elem = document.getElementById(\"iframe_out_1\");\n                    resize_iframe_out_1(elem);\n                    setInterval(resize_iframe_out_1, 5000, elem);\n                }\n                function resize_iframe_out_1(el) {\n                    let h = el.contentWindow.document.body.scrollHeight;\n                    el.height = h === 0 ? 0 : h + 41;\n                }\n            </script>",
      "application/kotlindataframe+json": "{\"nrow\":255,\"ncol\":5,\"columns\":[\"cveId\",\"ghsaId\",\"sapKbId\",\"vulnFixed\",\"vulnIntroduced\"],\"kotlin_dataframe\":[{\"cveId\":\"CVE-2018-1327\",\"ghsaId\":\"GHSA-38cr-2ph5-frr9\",\"sapKbId\":\"CVE-2018-1327\",\"vulnFixed\":\"2.5.16\",\"vulnIntroduced\":\"0\"},{\"cveId\":\"CVE-2017-2670\",\"ghsaId\":\"GHSA-3x7h-5hfr-hvjm\",\"sapKbId\":\"CVE-2017-2670\",\"vulnFixed\":\"1.3.28\",\"vulnIntroduced\":\"0\"},{\"cveId\":\"CVE-2018-12541\",\"ghsaId\":\"GHSA-45xm-v8gq-7jqx\",\"sapKbId\":\"CVE-2018-12541\",\"vulnFixed\":\"3.5.4\",\"vulnIntroduced\":\"3.0.0\"},{\"cveId\":\"CVE-2018-17785\",\"ghsaId\":\"GHSA-4r64-wf76-c53p\",\"sapKbId\":\"CVE-2018-17785\",\"vulnFixed\":\"0.39.7\",\"vulnIntroduced\":\"0\"},{\"cveId\":\"CVE-2018-10936\",\"ghsaId\":\"GHSA-568q-9fw5-28wf\",\"sapKbId\":\"CVE-2018-10936\",\"vulnFixed\":\"42.2.5\",\"vulnIntroduced\":\"0\"},{\"cveId\":\"CVE-2018-12418\",\"ghsaId\":\"GHSA-5xqr-grq4-qwgx\",\"sapKbId\":\"CVE-2018-12418\",\"vulnFixed\":\"1.0.1\",\"vulnIntroduced\":\"0\"},{\"cveId\":\"CVE-2016-10006\",\"ghsaId\":\"GHSA-683w-6h9j-57wq\",\"sapKbId\":\"CVE-2016-10006\",\"vulnFixed\":\"1.5.5\",\"vulnIntroduced\":\"0\"},{\"cveId\":\"CVE-2018-12537\",\"ghsaId\":\"GHSA-6cw8-7j6c-hccp\",\"sapKbId\":\"CVE-2018-12537\",\"vulnFixed\":\"3.5.2\",\"vulnIntroduced\":\"3.0.0\"},{\"cveId\":\"CVE-2018-15531\",\"ghsaId\":\"GHSA-6fvx-r7hx-3vh6\",\"sapKbId\":\"CVE-2018-15531\",\"vulnFixed\":\"1.74.0\",\"vulnIntroduced\":\"0\"},{\"cveId\":\"CVE-2018-11761\",\"ghsaId\":\"GHSA-6jq2-789q-fff2\",\"sapKbId\":\"CVE-2018-11761\",\"vulnFixed\":\"1.19.1\",\"vulnIntroduced\":\"0.1\"},{\"cveId\":\"CVE-2016-8629\",\"ghsaId\":\"GHSA-778x-2mqv-w6xw\",\"sapKbId\":\"CVE-2016-8629\",\"vulnFixed\":\"2.4.0\",\"vulnIntroduced\":\"0\"},{\"cveId\":\"CVE-2016-4977\",\"ghsaId\":\"GHSA-7q9c-h23x-65fq\",\"sapKbId\":\"CVE-2016-4977\",\"vulnFixed\":\"2.0.10\",\"vulnIntroduced\":\"0\"},{\"cveId\":\"CVE-2018-8030\",\"ghsaId\":\"GHSA-7xr3-rgwh-pw22\",\"sapKbId\":\"CVE-2018-8030\",\"vulnFixed\":\"7.0.5\",\"vulnIntroduced\":\"7.0.0\"},{\"cveId\":\"CVE-2016-4800\",\"ghsaId\":\"GHSA-872g-2h8h-362q\",\"sapKbId\":\"CVE-2016-4800\",\"vulnFixed\":\"9.3.9\",\"vulnIntroduced\":\"9.3.0\"},{\"cveId\":\"CVE-2016-9177\",\"ghsaId\":\"GHSA-89gc-6cw6-4vch\",\"sapKbId\":\"CVE-2016-9177\",\"vulnFixed\":\"2.5.2\",\"vulnIntroduced\":\"0\"},{\"cveId\":\"CVE-2016-6805\",\"ghsaId\":\"GHSA-8qfc-cvjp-mgpq\",\"sapKbId\":\"CVE-2016-6805\",\"vulnFixed\":\"1.9\",\"vulnIntroduced\":\"0\"},{\"cveId\":\"CVE-2017-14063\",\"ghsaId\":\"GHSA-93jq-624g-4p9p\",\"sapKbId\":\"CVE-2017-14063\",\"vulnFixed\":\"2.0.35\",\"vulnIntroduced\":\"0\"},{\"cveId\":\"CVE-2017-7672\",\"ghsaId\":\"GHSA-9gp7-jvm2-r4mx\",\"sapKbId\":\"CVE-2017-7672\",\"vulnFixed\":\"2.5.12\",\"vulnIntroduced\":\"2.5.0\"},{\"cveId\":\"CVE-2015-3271\",\"ghsaId\":\"GHSA-ccjp-w723-2jf2\",\"sapKbId\":\"CVE-2015-3271\",\"vulnFixed\":\"1.10\",\"vulnIntroduced\":\"0\"},{\"cveId\":\"CVE-2018-1295\",\"ghsaId\":\"GHSA-chp4-rv79-68j3\",\"sapKbId\":\"CVE-2018-1295\",\"vulnFixed\":\"2.4\",\"vulnIntroduced\":\"0\"}]}"
     },
     "execution_count": 20,
     "metadata": {},
     "output_type": "execute_result"
    }
   ],
   "source": [
    "singularKbGhsaData.map {\n",
    "    object {\n",
    "        val cveId = it.key\n",
    "        val vulnIntroduced = it.value.first.affected.first().ranges!!.first().events.first { e -> e.introduced != null }.introduced\n",
    "        val vulnFixed = it.value.first.affected.first().ranges!!.first().events.first { e -> e.fixed != null }.fixed\n",
    "        val ghsaId = it.value.first.id\n",
    "        val sapKbId = it.value.second.vulnerabilityID\n",
    "    }\n",
    "}.toDataFrame()"
   ],
   "metadata": {
    "collapsed": false,
    "ExecuteTime": {
     "end_time": "2023-11-04T14:18:27.238930400Z",
     "start_time": "2023-11-04T14:18:26.744310100Z"
    }
   }
  },
  {
   "cell_type": "code",
   "execution_count": 37,
   "outputs": [
    {
     "name": "stdout",
     "output_type": "stream",
     "text": [
      "http error 404 for maven:com.github.blynkkk:blynk-server\r\n",
      "http error 404 for jenkins:com.github.blynkkk:blynk-server\r\n",
      "http error 404 for maven:com.walmartlabs.concord.docker:concord-common\r\n",
      "http error 404 for jenkins:com.walmartlabs.concord.docker:concord-common\r\n",
      "http error 404 for maven:org.xwiki.platform:xwiki-platform-web\r\n",
      "http error 404 for jenkins:org.xwiki.platform:xwiki-platform-web\r\n",
      "http error 404 for maven:org.apache.kafka:kafka\r\n",
      "http error 404 for maven:org.jenkins-ci.plugins:mailer\r\n",
      "http error 404 for maven:io.jenkins.blueocean:blueocean\r\n",
      "http error 404 for jenkins:org.apache.kafka:kafka\r\n",
      "http error 404 for maven:org.jenkins-ci.main:jenkins-core\r\n",
      "http error 404 for maven:org.jenkins-ci.plugins:dynatrace-dashboard\r\n",
      "http error 404 for maven:org.jenkins-ci.plugins:script-security\r\n",
      "http error 404 for maven:io.jenkins.blueocean:blueocean\r\n",
      "http error 404 for maven:org.jenkins-ci.plugins:git\r\n",
      "http error 404 for maven:org.jenkins-ci.plugins:workflow-remote-loader\r\n",
      "http error 404 for maven:org.jenkins-ci.plugins:dynatrace-dashboard\r\n",
      "http error 404 for maven:org.jenkins-ci.plugins:script-security\r\n"
     ]
    },
    {
     "data": {
      "text/plain": "167"
     },
     "metadata": {},
     "output_type": "display_data"
    },
    {
     "data": {
      "text/plain": "4"
     },
     "metadata": {},
     "output_type": "display_data"
    },
    {
     "data": {
      "text/plain": "14485"
     },
     "metadata": {},
     "output_type": "display_data"
    }
   ],
   "source": [
    "import com.fasterxml.jackson.databind.DeserializationFeature\n",
    "import com.fasterxml.jackson.dataformat.xml.XmlMapper\n",
    "import com.fasterxml.jackson.dataformat.xml.annotation.JacksonXmlProperty\n",
    "import io.ktor.client.*\n",
    "import io.ktor.client.call.*\n",
    "import io.ktor.client.engine.cio.*\n",
    "import io.ktor.client.plugins.*\n",
    "import io.ktor.client.request.*\n",
    "import kotlinx.coroutines.*\n",
    "\n",
    "class MavenMetadata {\n",
    "    lateinit var groupId: String\n",
    "    lateinit var artifactId: String\n",
    "    lateinit var versioning: MavenVersioning\n",
    "}\n",
    "\n",
    "class MavenVersioning {\n",
    "    lateinit var latest: String\n",
    "    lateinit var release: String\n",
    "    lateinit var versions: List<String>\n",
    "    lateinit var lastUpdated: String\n",
    "}\n",
    "\n",
    "fun packageNameToUrl(packageName: String): String {\n",
    "    val parts = packageName.split(\":\")\n",
    "    return parts[0].replace('.', '/') + \"/\" + parts[1]\n",
    "}\n",
    "\n",
    "val xmlMapper = XmlMapper()\n",
    "xmlMapper.configure(DeserializationFeature.FAIL_ON_UNKNOWN_PROPERTIES, false)\n",
    "\n",
    "val httpClient = HttpClient() {\n",
    "    install(HttpTimeout) {\n",
    "        requestTimeoutMillis = 120_000\n",
    "    }\n",
    "}\n",
    "\n",
    "fun getVersions(packageName: String): List<String>? = runBlocking {\n",
    "    val mavenRepoUrl = \"https://repo1.maven.org/maven2\"\n",
    "    val jenkinsRepoUrl = \"https://repo.jenkins-ci.org/releases\"\n",
    "    val result = httpClient\n",
    "        .get(\"$mavenRepoUrl/${packageNameToUrl(packageName)}/maven-metadata.xml\")\n",
    "        .let {\n",
    "            if (it.status.value == 200) {\n",
    "                return@let it\n",
    "            }\n",
    "            println(\"http error ${it.status.value} for maven:$packageName\")\n",
    "            val result = httpClient.get(\"$jenkinsRepoUrl/${packageNameToUrl(packageName)}/maven-metadata.xml\")\n",
    "            result\n",
    "        }.let {\n",
    "            if (it.status.value == 200) {\n",
    "                return@let it\n",
    "            }\n",
    "            println(\"http error ${it.status.value} for jenkins:$packageName\")\n",
    "            return@runBlocking null\n",
    "        }\n",
    "\n",
    "    val resultXml: String = result.body()\n",
    "    try {\n",
    "        val mvnMetaData = xmlMapper.readValue<MavenMetadata>(resultXml, MavenMetadata::class.java)\n",
    "        val versionList = mvnMetaData.versioning.versions\n",
    "        return@runBlocking versionList\n",
    "    } catch (e: Exception) {\n",
    "        println(\"parsing error for $packageName\")\n",
    "        throw e\n",
    "    }\n",
    "}\n",
    "\n",
    "val dispatcher = Dispatchers.IO.limitedParallelism(8)\n",
    "\n",
    "var packageToVersionList = runBlocking {\n",
    "    singularKbGhsaData.map {\n",
    "        async(dispatcher) {\n",
    "            val packageName = it.value.first.affected.first().affectedPackage.name\n",
    "            val versionList = getVersions(packageName)\n",
    "            Pair(packageName, versionList)\n",
    "        }\n",
    "    }.awaitAll()\n",
    "}.toMap()\n",
    "\n",
    "DISPLAY(packageToVersionList.count())\n",
    "DISPLAY(packageToVersionList.filter { it.value == null }.count())\n",
    "DISPLAY(packageToVersionList.filter { it.value != null }.map { it.value!!.count() }.sum())\n",
    "packageToVersionList = packageToVersionList.filter { it.value != null }"
   ],
   "metadata": {
    "collapsed": false,
    "ExecuteTime": {
     "end_time": "2023-11-04T14:26:48.600898100Z",
     "start_time": "2023-11-04T14:26:21.916147Z"
    }
   }
  },
  {
   "cell_type": "markdown",
   "source": [
    "last output:\n",
    "http error 404 for maven:com.github.blynkkk:blynk-server\n",
    "http error 404 for jenkins:com.github.blynkkk:blynk-server\n",
    "http error 404 for maven:org.jenkins-ci.plugins:script-security\n",
    "http error 404 for maven:org.jenkins-ci.plugins:dynatrace-dashboard\n",
    "http error 404 for maven:org.jenkins-ci.plugins:workflow-remote-loader\n",
    "http error 404 for maven:org.jenkins-ci.plugins:dynatrace-dashboard\n",
    "http error 404 for maven:org.jenkins-ci.main:jenkins-core\n",
    "http error 404 for maven:org.jenkins-ci.plugins:git\n",
    "http error 404 for maven:org.jenkins-ci.plugins:script-security\n",
    "http error 404 for maven:io.jenkins.blueocean:blueocean\n",
    "http error 404 for maven:org.apache.kafka:kafka\n",
    "http error 404 for jenkins:org.apache.kafka:kafka\n",
    "http error 404 for maven:io.jenkins.blueocean:blueocean\n",
    "http error 404 for maven:org.jenkins-ci.plugins:mailer\n",
    "http error 404 for maven:org.xwiki.platform:xwiki-platform-web\n",
    "http error 404 for maven:com.walmartlabs.concord.docker:concord-common\n",
    "http error 404 for jenkins:org.xwiki.platform:xwiki-platform-web\n",
    "\n",
    "167\n",
    "4\n",
    "14477"
   ],
   "metadata": {
    "collapsed": false
   }
  },
  {
   "cell_type": "markdown",
   "source": [
    "only 4 errors!\n",
    "in total we have 14474 versions for 167 packages"
   ],
   "metadata": {
    "collapsed": false
   }
  },
  {
   "cell_type": "code",
   "execution_count": 38,
   "outputs": [],
   "source": [
    "// it will return the same version if it is the final version\n",
    "// it will return null if the version is not found in the version list\n",
    "// it assumes that the packageName exists in packageToVersionList\n",
    "fun getNextVersion(packageName: String, version: String): String? {\n",
    "    val versionList = packageToVersionList[packageName]!!\n",
    "    val versionIndex = versionList.indexOf(version)\n",
    "    if (versionIndex == -1) return null\n",
    "    if (versionIndex == versionList.count() - 1) return version\n",
    "    return versionList[versionIndex + 1] \n",
    "}\n",
    "\n",
    "fun getPrevVersion(packageName: String, version: String): String? {\n",
    "    val versionList = \n",
    "        try {\n",
    "            packageToVersionList[packageName]!!\n",
    "        } catch (e: Exception) {\n",
    "            println(\"$packageName not in the version list!\")            \n",
    "            throw e\n",
    "        }\n",
    "    val versionIndex = versionList.indexOf(version)\n",
    "    if (versionIndex == -1) return null\n",
    "    if (versionIndex == 0) return version\n",
    "    return versionList[versionIndex - 1]\n",
    "}"
   ],
   "metadata": {
    "collapsed": false,
    "ExecuteTime": {
     "end_time": "2023-11-04T14:26:54.214619700Z",
     "start_time": "2023-11-04T14:26:54.062876100Z"
    }
   }
  },
  {
   "cell_type": "code",
   "execution_count": 39,
   "outputs": [
    {
     "data": {
      "text/plain": "47"
     },
     "execution_count": 39,
     "metadata": {},
     "output_type": "execute_result"
    }
   ],
   "source": [
    "singularKbGhsaData\n",
    "    .filter {\n",
    "        val pkgName = it.value.first.affected.first().affectedPackage.name\n",
    "        packageToVersionList.keys.contains(pkgName)\n",
    "    }\n",
    "    .map {\n",
    "        val fixedVer = it.value.first.affected.first().ranges!!.first().events.first { it.fixed != null }.fixed!!\n",
    "        val latestVulnVer = getPrevVersion(it.value.first.affected.first().affectedPackage.name, fixedVer)\n",
    "        if (latestVulnVer != null && latestVulnVer == fixedVer) {\n",
    "            println(\"latestVulnVer == fixedVer for ${it.value.first.affected.first().affectedPackage.name}\")\n",
    "        }\n",
    "        latestVulnVer\n",
    "    }.filter {\n",
    "        it == null\n",
    "    }.count()"
   ],
   "metadata": {
    "collapsed": false,
    "ExecuteTime": {
     "end_time": "2023-11-04T14:26:54.295613600Z",
     "start_time": "2023-11-04T14:26:54.156089600Z"
    }
   }
  },
  {
   "cell_type": "markdown",
   "source": [
    "47 packages version are not found in the version list from maven\n",
    "204 records left"
   ],
   "metadata": {
    "collapsed": false
   }
  },
  {
   "cell_type": "code",
   "execution_count": 40,
   "outputs": [
    {
     "data": {
      "text/plain": "204"
     },
     "metadata": {},
     "output_type": "display_data"
    }
   ],
   "source": [
    "import org.apache.commons.csv.CSVFormat\n",
    "\n",
    "data class InterimResult1(\n",
    "    val cveId: String,\n",
    "    val ghsaId: String,\n",
    "    val packageName: String,\n",
    "    val vulnIntroduced: String,\n",
    "    val latestVulnVersion: String,\n",
    "    val vulnFixed: String,\n",
    "    val fixCommitRepo: String,\n",
    "    val fixCommitHash: String,\n",
    ")\n",
    "\n",
    "val interimResult =\n",
    "    singularKbGhsaData\n",
    "        .filter {\n",
    "            val pkgName = it.value.first.affected.first().affectedPackage.name\n",
    "            packageToVersionList.keys.contains(pkgName)\n",
    "        }\n",
    "        .map {\n",
    "            val fixedVer = it.value.first.affected.first().ranges!!.first().events.first { it.fixed != null }.fixed!!\n",
    "            val latestVulnVer = getPrevVersion(it.value.first.affected.first().affectedPackage.name, fixedVer)\n",
    "            if (latestVulnVer == null || latestVulnVer == fixedVer)\n",
    "                return@map null\n",
    "\n",
    "            val fixCommit = it.value.second.fixes!!.first().commits.first()\n",
    "\n",
    "            InterimResult1(\n",
    "                cveId = it.key,\n",
    "                vulnIntroduced = it.value.first.affected.first().ranges!!.first().events.first { e -> e.introduced != null }.introduced!!,\n",
    "                vulnFixed = it.value.first.affected.first().ranges!!.first().events.first { e -> e.fixed != null }.fixed!!,\n",
    "                ghsaId = it.value.first.id,\n",
    "                latestVulnVersion = latestVulnVer,\n",
    "                fixCommitRepo = fixCommit.repository.let { it.replace(Regex(\"\\\\.git$\"), \"\") },\n",
    "                fixCommitHash = fixCommit.id,\n",
    "                packageName = it.value.first.affected.first().affectedPackage.name,\n",
    "            )\n",
    "        }.filterNotNull()\n",
    "        .toList()\n",
    "\n",
    "DISPLAY(interimResult.count())\n",
    "//interimResult.toDataFrame().writeCSV(dataDir.resolve(\"interim\").also { it.mkdirs() }.resolve(\"interim_result.1.tsv\"), format = CSVFormat.DEFAULT.withDelimiter('\\t'))"
   ],
   "metadata": {
    "collapsed": false,
    "ExecuteTime": {
     "end_time": "2023-11-04T14:26:54.550691Z",
     "start_time": "2023-11-04T14:26:54.290615100Z"
    }
   }
  },
  {
   "cell_type": "code",
   "execution_count": 41,
   "outputs": [
    {
     "data": {
      "text/plain": "204"
     },
     "execution_count": 41,
     "metadata": {},
     "output_type": "execute_result"
    }
   ],
   "source": [
    "val interimResultMap = interimResult\n",
    "    .groupBy {\n",
    "        it.cveId\n",
    "    }.map {\n",
    "        it.key to it.value.first()\n",
    "    }.toMap()\n",
    "interimResultMap.count()"
   ],
   "metadata": {
    "collapsed": false,
    "ExecuteTime": {
     "end_time": "2023-11-04T14:26:54.648208500Z",
     "start_time": "2023-11-04T14:26:54.545693800Z"
    }
   }
  },
  {
   "cell_type": "code",
   "execution_count": 42,
   "outputs": [
    {
     "data": {
      "text/plain": "73"
     },
     "metadata": {},
     "output_type": "display_data"
    },
    {
     "data": {
      "text/plain": "SourceChange(cveId=CVE-2013-4310, commitHash=0c8366cb792227d484b9ca13e537037dd0cb57dc, beforeDir=D:\\project-kb\\statements\\CVE-2013-4310\\0c8366cb792227d484b9ca13e537037dd0cb57dc\\before, afterDir=D:\\project-kb\\statements\\CVE-2013-4310\\0c8366cb792227d484b9ca13e537037dd0cb57dc\\after)"
     },
     "metadata": {},
     "output_type": "display_data"
    }
   ],
   "source": [
    "import kotlin.io.path.exists\n",
    "\n",
    "val sourceChanges = k.kbDataProvider.getSourceChanges()\n",
    "    .filter { interimResultMap.containsKey(it.cveId) }\n",
    "    .filterNot { it.beforeDir.exists() && it.afterDir.exists() }\n",
    "    .toList()\n",
    "\n",
    "DISPLAY(sourceChanges.count())\n",
    "DISPLAY(sourceChanges.random())"
   ],
   "metadata": {
    "collapsed": false,
    "ExecuteTime": {
     "end_time": "2023-11-04T14:26:54.773742500Z",
     "start_time": "2023-11-04T14:26:54.646204900Z"
    }
   }
  },
  {
   "cell_type": "markdown",
   "source": [
    "There are 73 records that do not have source changes.\n",
    "I download the patches from remote git repositories in the next notebook.  "
   ],
   "metadata": {
    "collapsed": false
   }
  }
 ],
 "metadata": {
  "kernelspec": {
   "display_name": "Kotlin",
   "language": "kotlin",
   "name": "kotlin"
  },
  "language_info": {
   "name": "kotlin",
   "version": "1.9.0",
   "mimetype": "text/x-kotlin",
   "file_extension": ".kt",
   "pygments_lexer": "kotlin",
   "codemirror_mode": "text/x-kotlin",
   "nbconvert_exporter": ""
  },
  "ktnbPluginMetadata": {
   "projectDependencies": true
  }
 },
 "nbformat": 4,
 "nbformat_minor": 0
}
