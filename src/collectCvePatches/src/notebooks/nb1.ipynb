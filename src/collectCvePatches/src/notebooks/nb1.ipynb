{
 "cells": [
  {
   "cell_type": "code",
   "execution_count": null,
   "metadata": {
    "collapsed": true
   },
   "outputs": [],
   "source": [
    "setupServices()"
   ]
  },
  {
   "cell_type": "code",
   "execution_count": null,
   "outputs": [],
   "source": [
    "import io.github.cdimascio.dotenv.Dotenv\n",
    "import java.nio.file.Paths\n",
    "\n",
    "val dotenv = Dotenv.load()\n",
    "val dataDir = dotenv.get(\"DATA_DIR\").let { Paths.get(it).toFile() }.also { it.mkdirs() }\n",
    "dataDir"
   ],
   "metadata": {
    "collapsed": false
   }
  },
  {
   "cell_type": "code",
   "execution_count": null,
   "outputs": [],
   "source": [
    "import core.githubAdvisory.GhsaDataProvider\n",
    "import core.projectKb.KbDataProvider\n",
    "import org.koin.core.component.KoinComponent\n",
    "import org.koin.core.component.get\n",
    "\n",
    "class K: KoinComponent {\n",
    "    val kbDataProvider = get<KbDataProvider>()\n",
    "    val ghsaDataProvider = get<GhsaDataProvider>()\n",
    "}\n",
    "\n",
    "val k = K()"
   ],
   "metadata": {
    "collapsed": false
   }
  },
  {
   "cell_type": "code",
   "execution_count": null,
   "outputs": [],
   "source": [
    "val statements = k.kbDataProvider.getStatements()\n",
    "statements.count()"
   ],
   "metadata": {
    "collapsed": false
   }
  },
  {
   "cell_type": "markdown",
   "source": [
    "1297"
   ],
   "metadata": {
    "collapsed": false
   }
  },
  {
   "cell_type": "code",
   "execution_count": null,
   "outputs": [],
   "source": [
    "DISPLAY(statements.filter { it.artifacts != null }.count())\n",
    "DISPLAY(statements.filter { it.fixes != null }.count())\n",
    "DISPLAY(statements.filter { it.artifacts != null && it.fixes != null }.count())"
   ],
   "metadata": {
    "collapsed": false
   }
  },
  {
   "cell_type": "markdown",
   "source": [
    "617\n",
    "1215\n",
    "535"
   ],
   "metadata": {
    "collapsed": false
   }
  },
  {
   "cell_type": "code",
   "execution_count": null,
   "outputs": [],
   "source": [
    "val ghsaJsonData = k.ghsaDataProvider.getJsonData()\n",
    "ghsaJsonData.count()"
   ],
   "metadata": {
    "collapsed": false
   }
  },
  {
   "cell_type": "markdown",
   "source": [
    "3989"
   ],
   "metadata": {
    "collapsed": false
   }
  },
  {
   "cell_type": "code",
   "execution_count": null,
   "outputs": [],
   "source": [
    "ghsaJsonData.filter { it.affected.count() > 0 }.count()"
   ],
   "metadata": {
    "collapsed": false
   }
  },
  {
   "cell_type": "markdown",
   "source": [
    "3989"
   ],
   "metadata": {
    "collapsed": false
   }
  },
  {
   "cell_type": "code",
   "execution_count": null,
   "outputs": [],
   "source": [
    "data class ResultDataItem(\n",
    "    val cveId: String?,\n",
    "    val sapKbVulnId: String?,\n",
    "    val sapKbUrl: String?,\n",
    "    val ghsaUrl: String?,\n",
    "    val ghsaId: String?,\n",
    "    val commitUrl: String?,\n",
    "    val latestVulnGav: String?,\n",
    "    val earliestFixedGav: String?,\n",
    "    val affectedSourcePath: String?,\n",
    "    val latestVulnJarPath: String?,\n",
    "    val earliestFixedJarPath: String?,\n",
    "    val affectedClassFilePath: String?,\n",
    "    val affectedClassFileName: String?,\n",
    ")"
   ],
   "metadata": {
    "collapsed": false
   }
  },
  {
   "cell_type": "code",
   "execution_count": null,
   "outputs": [],
   "source": [
    "val kbCveToStatement = statements.groupBy { it.vulnerabilityID }.map { it.key to it.value.first() }.toMap()"
   ],
   "metadata": {
    "collapsed": false
   }
  },
  {
   "cell_type": "code",
   "execution_count": null,
   "outputs": [],
   "source": [
    "val kbGhsaData = ghsaJsonData.map {\n",
    "        val matchedCve = it.aliases.filter { kbCveToStatement.keys.contains(it) }.firstOrNull()\n",
    "        if (matchedCve == null)\n",
    "            return@map null\n",
    "        Pair(matchedCve, it)\n",
    "    }.filterNotNull()\n",
    "    .map {\n",
    "        Pair(it.first, Pair(it.second, kbCveToStatement[it.first]!!))        \n",
    "    }.toMap()\n",
    "    \n",
    "kbGhsaData.count()"
   ],
   "metadata": {
    "collapsed": false
   }
  },
  {
   "cell_type": "markdown",
   "source": [
    "666"
   ],
   "metadata": {
    "collapsed": false
   }
  },
  {
   "cell_type": "code",
   "execution_count": null,
   "outputs": [],
   "source": [
    "// ranges array in GHSA always has only 1 element (or its null)\n",
    "kbGhsaData.forEach {\n",
    "    it.value.first.affected.forEach {\n",
    "        if (it.ranges != null && it.ranges!!.count() != 1) {\n",
    "            println(\"should not be possible\")\n",
    "        }\n",
    "    }\n",
    "}"
   ],
   "metadata": {
    "collapsed": false
   }
  },
  {
   "cell_type": "code",
   "execution_count": null,
   "outputs": [],
   "source": [
    "kbGhsaData.filter { \n",
    "    it.value.first.affected.any { it.ranges == null && it.versions != null }\n",
    " }.map {\n",
    "     println(it.key)\n",
    "     it\n",
    " }\n",
    " .count()"
   ],
   "metadata": {
    "collapsed": false
   }
  },
  {
   "cell_type": "markdown",
   "source": [
    "CVE-2019-12402\n",
    "CVE-2018-10237\n",
    "CVE-2021-44228\n",
    "CVE-2018-1131\n",
    "\n",
    "4"
   ],
   "metadata": {
    "collapsed": false
   }
  },
  {
   "cell_type": "markdown",
   "source": [
    "CVE-2021-44228 (log4j) records in both GHSA and SAP-KB mentions artifacts from projects other than the original apache repository. But the commits are only from apache repository. "
   ],
   "metadata": {
    "collapsed": false
   }
  },
  {
   "cell_type": "code",
   "execution_count": null,
   "outputs": [],
   "source": [
    "// how many records will be left if we only consider single-commit-single-affected-package?\n",
    "DISPLAY(\"total: \" + kbGhsaData.count())\n",
    "\n",
    "DISPLAY(\n",
    "    \"single affected: \" + kbGhsaData.filter {\n",
    "        it.value.first.affected.count() == 1\n",
    "    }.count()\n",
    ")\n",
    "\n",
    "DISPLAY(\n",
    "    \"single branch: \" + kbGhsaData.filter {\n",
    "        it.value.second.fixes != null && it.value.second.fixes!!.count() == 1\n",
    "    }.count()\n",
    ")\n",
    "\n",
    "DISPLAY(\"single commit: \" + kbGhsaData.filter {\n",
    "    it.value.second.fixes != null && it.value.second.fixes!!.count() == 1\n",
    "}.filter {\n",
    "    it.value.second.fixes!!.first().commits.count() == 1\n",
    "}.count())\n",
    "\n",
    "DISPLAY(\"single affected & single branch: \" + kbGhsaData.filter {\n",
    "    it.value.second.fixes != null && it.value.second.fixes!!.count() == 1\n",
    "}.filter {\n",
    "    it.value.first.affected.count() == 1\n",
    "}.count()\n",
    ")\n",
    "\n",
    "DISPLAY(\"single affected & single commit: \" + kbGhsaData.filter {\n",
    "    it.value.second.fixes != null && it.value.second.fixes!!.count() == 1\n",
    "}.filter {\n",
    "    it.value.second.fixes!!.first().commits.count() == 1\n",
    "}.filter {\n",
    "    it.value.first.affected.count() == 1\n",
    "}\n",
    ".count())"
   ],
   "metadata": {
    "collapsed": false
   }
  },
  {
   "cell_type": "markdown",
   "source": [
    "total: 666\n",
    "single affected: 365\n",
    "single branch: 481\n",
    "single commit: 385\n",
    "single affected & single branch: 305\n",
    "single affected & single commit: 270"
   ],
   "metadata": {
    "collapsed": false
   }
  },
  {
   "cell_type": "markdown",
   "source": [
    "We will continue with \"single affected & single commit\" records"
   ],
   "metadata": {
    "collapsed": false
   }
  },
  {
   "cell_type": "markdown",
   "source": [
    "First let's investigate what actually \"last_affected\" means. "
   ],
   "metadata": {
    "collapsed": false
   }
  },
  {
   "cell_type": "code",
   "execution_count": null,
   "outputs": [],
   "source": [
    "val singularKbGhsaData = kbGhsaData.filter {\n",
    "    it.value.second.fixes != null && it.value.second.fixes!!.count() == 1\n",
    "}.filter {\n",
    "    it.value.second.fixes!!.first().commits.count() == 1\n",
    "}.filter {\n",
    "    it.value.first.affected.count() == 1\n",
    "}\n",
    "//.filter {\n",
    "//    val e = it.value.first.affected.first().ranges!!.first().events\n",
    "//    val intro = e.first { it.introduced != null }.introduced\n",
    "//    val lastAffected = e.firstOrNull() { it.lastAffected != null }?.lastAffected\n",
    "//    val fixed = e.firstOrNull() { it.fixed != null }?.fixed\n",
    "//    intro == \"0\"\n",
    "//}\n",
    ".filter {\n",
    "    it.value.first.affected.first().ranges!!.first().events.any { e -> e.lastAffected != null }\n",
    "}\n",
    "\n",
    "DISPLAY(singularKbGhsaData.count())\n",
    "//DISPLAY(singularKbGhsaData.toList().random())"
   ],
   "metadata": {
    "collapsed": false
   }
  },
  {
   "cell_type": "markdown",
   "source": [
    "15"
   ],
   "metadata": {
    "collapsed": false
   }
  },
  {
   "cell_type": "markdown",
   "source": [
    "It does not have a clear and coherent meaning. It seems most likely to be the last version known to be vulnerable at the time of adding the record in GHSA. "
   ],
   "metadata": {
    "collapsed": false
   }
  },
  {
   "cell_type": "markdown",
   "source": [
    "Notes:\n",
    "- During the investigation I have seen a few records with wrong package name. For example: org.apache.struts:struts-master\n",
    "- There are so many records with the \"introduced\" field value of \"0\". I have cross-checked them with snyk database and they seem to be wrong. There are actual introduced versions in snyk database that is not recorded in GHSA."
   ],
   "metadata": {
    "collapsed": false
   }
  },
  {
   "cell_type": "markdown",
   "source": [
    "OK. Let's continue with the \"single affected & single commit\" records without the ones that have \"last_affected\""
   ],
   "metadata": {
    "collapsed": false
   }
  },
  {
   "cell_type": "code",
   "execution_count": null,
   "outputs": [],
   "source": [
    "val singularKbGhsaData = kbGhsaData.filter {\n",
    "    it.value.second.fixes != null && it.value.second.fixes!!.count() == 1\n",
    "}.filter {\n",
    "    it.value.second.fixes!!.first().commits.count() == 1\n",
    "}.filter {\n",
    "    it.value.first.affected.count() == 1\n",
    "}\n",
    ".filter {\n",
    "    it.value.first.affected.first().ranges!!.first().events.any { e -> e.fixed != null }\n",
    "}\n",
    "\n",
    "DISPLAY(singularKbGhsaData.count())\n",
    "//DISPLAY(singularKbGhsaData.toList().random())"
   ],
   "metadata": {
    "collapsed": false
   }
  },
  {
   "cell_type": "markdown",
   "source": [
    "255"
   ],
   "metadata": {
    "collapsed": false
   }
  },
  {
   "cell_type": "code",
   "execution_count": null,
   "outputs": [],
   "source": [
    "singularKbGhsaData.map {\n",
    "    object {\n",
    "        val cveId = it.key\n",
    "        val vulnIntroduced = it.value.first.affected.first().ranges!!.first().events.first { e -> e.introduced != null }.introduced\n",
    "        val vulnFixed = it.value.first.affected.first().ranges!!.first().events.first { e -> e.fixed != null }.fixed\n",
    "        val ghsaId = it.value.first.id\n",
    "        val sapKbId = it.value.second.vulnerabilityID\n",
    "    }\n",
    "}.toDataFrame()"
   ],
   "metadata": {
    "collapsed": false
   }
  },
  {
   "cell_type": "code",
   "execution_count": null,
   "outputs": [],
   "source": [
    "import com.fasterxml.jackson.databind.DeserializationFeature\n",
    "import com.fasterxml.jackson.dataformat.xml.XmlMapper\n",
    "import com.fasterxml.jackson.dataformat.xml.annotation.JacksonXmlProperty\n",
    "import io.ktor.client.*\n",
    "import io.ktor.client.call.*\n",
    "import io.ktor.client.engine.cio.*\n",
    "import io.ktor.client.plugins.*\n",
    "import io.ktor.client.request.*\n",
    "import kotlinx.coroutines.*\n",
    "\n",
    "class MavenMetadata {\n",
    "    lateinit var groupId: String\n",
    "    lateinit var artifactId: String\n",
    "    lateinit var versioning: MavenVersioning\n",
    "}\n",
    "\n",
    "class MavenVersioning {\n",
    "    lateinit var latest: String\n",
    "    lateinit var release: String\n",
    "    lateinit var versions: List<String>\n",
    "    lateinit var lastUpdated: String\n",
    "}\n",
    "\n",
    "fun packageNameToUrl(packageName: String): String {\n",
    "    val parts = packageName.split(\":\")\n",
    "    return parts[0].replace('.', '/') + \"/\" + parts[1]\n",
    "}\n",
    "\n",
    "val xmlMapper = XmlMapper()\n",
    "xmlMapper.configure(DeserializationFeature.FAIL_ON_UNKNOWN_PROPERTIES, false)\n",
    "\n",
    "val httpClient = HttpClient() {\n",
    "    install(HttpTimeout) {\n",
    "        requestTimeoutMillis = 120_000\n",
    "    }\n",
    "}\n",
    "\n",
    "fun getVersions(packageName: String): List<String>? = runBlocking {\n",
    "    val mavenRepoUrl = \"https://repo1.maven.org/maven2\"\n",
    "    val jenkinsRepoUrl = \"https://repo.jenkins-ci.org/releases\"\n",
    "    val result = httpClient\n",
    "        .get(\"$mavenRepoUrl/${packageNameToUrl(packageName)}/maven-metadata.xml\")\n",
    "        .let {\n",
    "            if (it.status.value == 200) {\n",
    "                return@let it\n",
    "            }\n",
    "            println(\"http error ${it.status.value} for maven:$packageName\")\n",
    "            val result = httpClient.get(\"$jenkinsRepoUrl/${packageNameToUrl(packageName)}/maven-metadata.xml\")\n",
    "            result\n",
    "        }.let {\n",
    "            if (it.status.value == 200) {\n",
    "                return@let it\n",
    "            }\n",
    "            println(\"http error ${it.status.value} for jenkins:$packageName\")\n",
    "            return@runBlocking null\n",
    "        }\n",
    "\n",
    "    val resultXml: String = result.body()\n",
    "    try {\n",
    "        val mvnMetaData = xmlMapper.readValue<MavenMetadata>(resultXml, MavenMetadata::class.java)\n",
    "        val versionList = mvnMetaData.versioning.versions\n",
    "        return@runBlocking versionList\n",
    "    } catch (e: Exception) {\n",
    "        println(\"parsing error for $packageName\")\n",
    "        throw e\n",
    "    }\n",
    "}\n",
    "\n",
    "val dispatcher = Dispatchers.IO.limitedParallelism(8)\n",
    "\n",
    "var packageToVersionList = runBlocking {\n",
    "    singularKbGhsaData.map {\n",
    "        async(dispatcher) {\n",
    "            val packageName = it.value.first.affected.first().affectedPackage.name\n",
    "            val versionList = getVersions(packageName)\n",
    "            Pair(packageName, versionList)\n",
    "        }\n",
    "    }.awaitAll()\n",
    "}.toMap()\n",
    "\n",
    "DISPLAY(packageToVersionList.count())\n",
    "DISPLAY(packageToVersionList.filter { it.value == null }.count())\n",
    "DISPLAY(packageToVersionList.filter { it.value != null }.map { it.value!!.count() }.sum())\n",
    "packageToVersionList = packageToVersionList.filter { it.value != null }"
   ],
   "metadata": {
    "collapsed": false
   }
  },
  {
   "cell_type": "markdown",
   "source": [
    "last output:\n",
    "http error 404 for maven:com.github.blynkkk:blynk-server\n",
    "http error 404 for jenkins:com.github.blynkkk:blynk-server\n",
    "http error 404 for maven:org.jenkins-ci.plugins:script-security\n",
    "http error 404 for maven:org.jenkins-ci.plugins:dynatrace-dashboard\n",
    "http error 404 for maven:org.jenkins-ci.plugins:workflow-remote-loader\n",
    "http error 404 for maven:org.jenkins-ci.plugins:dynatrace-dashboard\n",
    "http error 404 for maven:org.jenkins-ci.main:jenkins-core\n",
    "http error 404 for maven:org.jenkins-ci.plugins:git\n",
    "http error 404 for maven:org.jenkins-ci.plugins:script-security\n",
    "http error 404 for maven:io.jenkins.blueocean:blueocean\n",
    "http error 404 for maven:org.apache.kafka:kafka\n",
    "http error 404 for jenkins:org.apache.kafka:kafka\n",
    "http error 404 for maven:io.jenkins.blueocean:blueocean\n",
    "http error 404 for maven:org.jenkins-ci.plugins:mailer\n",
    "http error 404 for maven:org.xwiki.platform:xwiki-platform-web\n",
    "http error 404 for maven:com.walmartlabs.concord.docker:concord-common\n",
    "http error 404 for jenkins:org.xwiki.platform:xwiki-platform-web\n",
    "\n",
    "167\n",
    "4\n",
    "14477"
   ],
   "metadata": {
    "collapsed": false
   }
  },
  {
   "cell_type": "markdown",
   "source": [
    "only 4 errors!\n",
    "in total we have 14474 versions for 167 packages"
   ],
   "metadata": {
    "collapsed": false
   }
  },
  {
   "cell_type": "code",
   "execution_count": null,
   "outputs": [],
   "source": [
    "// it will return the same version if it is the final version\n",
    "// it will return null if the version is not found in the version list\n",
    "// it assumes that the packageName exists in packageToVersionList\n",
    "fun getNextVersion(packageName: String, version: String): String? {\n",
    "    val versionList = packageToVersionList[packageName]!!\n",
    "    val versionIndex = versionList.indexOf(version)\n",
    "    if (versionIndex == -1) return null\n",
    "    if (versionIndex == versionList.count() - 1) return version\n",
    "    return versionList[versionIndex + 1] \n",
    "}\n",
    "\n",
    "fun getPrevVersion(packageName: String, version: String): String? {\n",
    "    val versionList = \n",
    "        try {\n",
    "            packageToVersionList[packageName]!!\n",
    "        } catch (e: Exception) {\n",
    "            println(\"$packageName not in the version list!\")            \n",
    "            throw e\n",
    "        }\n",
    "    val versionIndex = versionList.indexOf(version)\n",
    "    if (versionIndex == -1) return null\n",
    "    if (versionIndex == 0) return version\n",
    "    return versionList[versionIndex - 1]\n",
    "}"
   ],
   "metadata": {
    "collapsed": false
   }
  },
  {
   "cell_type": "code",
   "execution_count": null,
   "outputs": [],
   "source": [
    "singularKbGhsaData\n",
    "    .filter {\n",
    "        val pkgName = it.value.first.affected.first().affectedPackage.name\n",
    "        packageToVersionList.keys.contains(pkgName)\n",
    "    }\n",
    "    .map {\n",
    "        val fixedVer = it.value.first.affected.first().ranges!!.first().events.first { it.fixed != null }.fixed!!\n",
    "        val latestVulnVer = getPrevVersion(it.value.first.affected.first().affectedPackage.name, fixedVer)\n",
    "        if (latestVulnVer != null && latestVulnVer == fixedVer) {\n",
    "            println(\"latestVulnVer == fixedVer for ${it.value.first.affected.first().affectedPackage.name}\")\n",
    "        }\n",
    "        latestVulnVer\n",
    "    }.filter {\n",
    "        it == null\n",
    "    }.count()"
   ],
   "metadata": {
    "collapsed": false
   }
  },
  {
   "cell_type": "markdown",
   "source": [
    "47 packages version are not found in the version list from maven\n",
    "204 records left"
   ],
   "metadata": {
    "collapsed": false
   }
  },
  {
   "cell_type": "code",
   "execution_count": null,
   "outputs": [],
   "source": [
    "import org.apache.commons.csv.CSVFormat\n",
    "\n",
    "data class InterimResult1(\n",
    "    val cveId: String,\n",
    "    val ghsaId: String,\n",
    "    val packageName: String,\n",
    "    val vulnIntroduced: String,\n",
    "    val latestVulnVersion: String,\n",
    "    val vulnFixed: String,\n",
    "    val fixCommitRepo: String,\n",
    "    val fixCommitHash: String,\n",
    ")\n",
    "\n",
    "val interimResult =\n",
    "    singularKbGhsaData\n",
    "        .filter {\n",
    "            val pkgName = it.value.first.affected.first().affectedPackage.name\n",
    "            packageToVersionList.keys.contains(pkgName)\n",
    "        }\n",
    "        .map {\n",
    "            val fixedVer = it.value.first.affected.first().ranges!!.first().events.first { it.fixed != null }.fixed!!\n",
    "            val latestVulnVer = getPrevVersion(it.value.first.affected.first().affectedPackage.name, fixedVer)\n",
    "            if (latestVulnVer == null || latestVulnVer == fixedVer)\n",
    "                return@map null\n",
    "\n",
    "            val fixCommit = it.value.second.fixes!!.first().commits.first()\n",
    "\n",
    "            InterimResult1(\n",
    "                cveId = it.key,\n",
    "                vulnIntroduced = it.value.first.affected.first().ranges!!.first().events.first { e -> e.introduced != null }.introduced!!,\n",
    "                vulnFixed = it.value.first.affected.first().ranges!!.first().events.first { e -> e.fixed != null }.fixed!!,\n",
    "                ghsaId = it.value.first.id,\n",
    "                latestVulnVersion = latestVulnVer,\n",
    "                fixCommitRepo = fixCommit.repository.let { it.replace(Regex(\"\\\\.git$\"), \"\") },\n",
    "                fixCommitHash = fixCommit.id,\n",
    "                packageName = it.value.first.affected.first().affectedPackage.name,\n",
    "            )\n",
    "        }.filterNotNull()\n",
    "        .toList()\n",
    "\n",
    "DISPLAY(interimResult.count())\n",
    "//interimResult.toDataFrame().writeCSV(dataDir.resolve(\"interim\").also { it.mkdirs() }.resolve(\"interim_result.1.tsv\"), format = CSVFormat.DEFAULT.withDelimiter('\\t'))"
   ],
   "metadata": {
    "collapsed": false
   }
  },
  {
   "cell_type": "markdown",
   "source": [
    "204"
   ],
   "metadata": {
    "collapsed": false
   }
  },
  {
   "cell_type": "code",
   "execution_count": null,
   "outputs": [],
   "source": [
    "val interimResultMap = interimResult\n",
    "    .groupBy {\n",
    "        it.cveId\n",
    "    }.map {\n",
    "        it.key to it.value.first()\n",
    "    }.toMap()\n",
    "interimResultMap.count()"
   ],
   "metadata": {
    "collapsed": false
   }
  },
  {
   "cell_type": "markdown",
   "source": [
    "204"
   ],
   "metadata": {
    "collapsed": false
   }
  },
  {
   "cell_type": "code",
   "execution_count": null,
   "outputs": [],
   "source": [
    "import kotlin.io.path.exists\n",
    "\n",
    "val sourceChanges = k.kbDataProvider.getSourceChanges()\n",
    "    .filter { interimResultMap.containsKey(it.cveId) }\n",
    "    .filterNot { it.beforeDir.exists() && it.afterDir.exists() }\n",
    "    .toList()\n",
    "\n",
    "DISPLAY(sourceChanges.count())\n",
    "DISPLAY(sourceChanges.random())"
   ],
   "metadata": {
    "collapsed": false
   }
  },
  {
   "cell_type": "markdown",
   "source": [
    "73"
   ],
   "metadata": {
    "collapsed": false
   }
  },
  {
   "cell_type": "markdown",
   "source": [
    "There are 73 records that do not have source changes.\n",
    "I download the patches from remote git repositories in the next notebook.  "
   ],
   "metadata": {
    "collapsed": false
   }
  }
 ],
 "metadata": {
  "kernelspec": {
   "display_name": "Kotlin",
   "language": "kotlin",
   "name": "kotlin"
  },
  "language_info": {
   "name": "kotlin",
   "version": "1.9.0",
   "mimetype": "text/x-kotlin",
   "file_extension": ".kt",
   "pygments_lexer": "kotlin",
   "codemirror_mode": "text/x-kotlin",
   "nbconvert_exporter": ""
  },
  "ktnbPluginMetadata": {
   "projectDependencies": true
  }
 },
 "nbformat": 4,
 "nbformat_minor": 0
}
