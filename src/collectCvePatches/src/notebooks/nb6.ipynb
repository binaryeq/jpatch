{
 "cells": [
  {
   "cell_type": "code",
   "execution_count": 10,
   "id": "initial_id",
   "metadata": {
    "ExecuteTime": {
     "end_time": "2023-12-07T05:23:24.229482320Z",
     "start_time": "2023-12-07T05:23:24.189072109Z"
    }
   },
   "outputs": [],
   "source": [
    "from typing import List\n",
    "\n",
    "import pandas as pd\n",
    "from pathlib import Path\n",
    "import os\n",
    "import sys\n",
    "from dotenv import load_dotenv, dotenv_values\n",
    "from pydriller import Repository\n",
    "import json\n",
    "from multiprocessing import Pool\n",
    "from itertools import chain\n",
    "from collections import OrderedDict\n",
    "import shutil"
   ]
  },
  {
   "cell_type": "code",
   "execution_count": 5,
   "id": "b4ad7549f3e230aa",
   "metadata": {
    "collapsed": false,
    "ExecuteTime": {
     "end_time": "2023-12-07T05:06:04.164552489Z",
     "start_time": "2023-12-07T05:06:04.139855396Z"
    }
   },
   "outputs": [
    {
     "data": {
      "text/plain": "PosixPath('/home/mm/w/jpatch/data')"
     },
     "execution_count": 5,
     "metadata": {},
     "output_type": "execute_result"
    }
   ],
   "source": [
    "load_dotenv()\n",
    "ENV = dotenv_values(\".env\")\n",
    "DATA_DIR = Path(ENV[\"DATA_DIR\"])\n",
    "DATA_DIR"
   ]
  },
  {
   "cell_type": "code",
   "execution_count": 6,
   "id": "9b56b7c1d7a20537",
   "metadata": {
    "collapsed": false,
    "ExecuteTime": {
     "end_time": "2023-12-07T05:06:08.094396469Z",
     "start_time": "2023-12-07T05:06:07.996130036Z"
    }
   },
   "outputs": [
    {
     "data": {
      "text/plain": "              cveId               ghsaId                       packageName  \\\n0     CVE-2013-7285  GHSA-f554-x222-wgf7  com.thoughtworks.xstream:xstream   \n1    CVE-2019-17513  GHSA-mvqp-q37c-wf9j           io.ratpack:ratpack-core   \n2    CVE-2019-16771  GHSA-24r8-fm9r-cpj2      com.linecorp.armeria:armeria   \n3    CVE-2019-16771  GHSA-24r8-fm9r-cpj2      com.linecorp.armeria:armeria   \n4    CVE-2019-16771  GHSA-24r8-fm9r-cpj2      com.linecorp.armeria:armeria   \n..              ...                  ...                               ...   \n204  CVE-2020-13692  GHSA-88cc-g835-76rp         org.postgresql:postgresql   \n205  CVE-2020-13692  GHSA-88cc-g835-76rp         org.postgresql:postgresql   \n206  CVE-2018-21234  GHSA-jrg3-qq99-35g7                 org.jodd:jodd-all   \n207  CVE-2018-21234  GHSA-jrg3-qq99-35g7                 org.jodd:jodd-all   \n208  CVE-2020-13973  GHSA-g8jj-899q-8x3j     com.mikesamuel:json-sanitizer   \n\n    vulnIntroduced latestVulnVersion fixedVersion  \\\n0                0             1.4.5        1.4.6   \n1                0             1.7.4        1.7.5   \n2                0            0.96.0       0.97.0   \n3                0            0.96.0       0.97.0   \n4                0            0.96.0       0.97.0   \n..             ...               ...          ...   \n204              0      42.2.12.jre7      42.2.13   \n205              0      42.2.12.jre7      42.2.13   \n206              0             5.0.3        5.0.4   \n207              0             5.0.3        5.0.4   \n208              0             1.2.0        1.2.1   \n\n                               fixCommitRepo  \\\n0        https://github.com/x-stream/xstream   \n1         https://github.com/ratpack/ratpack   \n2            https://github.com/line/armeria   \n3            https://github.com/line/armeria   \n4            https://github.com/line/armeria   \n..                                       ...   \n204         https://github.com/pgjdbc/pgjdbc   \n205         https://github.com/pgjdbc/pgjdbc   \n206            https://github.com/oblac/jodd   \n207            https://github.com/oblac/jodd   \n208  https://github.com/OWASP/json-sanitizer   \n\n                                fixCommitHash  \\\n0    6344867dce6767af7d0fe34fb393271a6456672d   \n1    efb910d38a96494256f36675ef0e5061097dd77d   \n2    b597f7a865a527a84ee3d6937075cfbb4470ed20   \n3    b597f7a865a527a84ee3d6937075cfbb4470ed20   \n4    b597f7a865a527a84ee3d6937075cfbb4470ed20   \n..                                        ...   \n204  14b62aca4764d496813f55a43d050b017e01eb65   \n205  14b62aca4764d496813f55a43d050b017e01eb65   \n206  9bffc3913aeb8472c11bb543243004b4b4376f16   \n207  9bffc3913aeb8472c11bb543243004b4b4376f16   \n208  f3512bab078af3f5c533dacc2d410add8c0c1124   \n\n                                             jarBefore  \\\n0    proc/changes/CVE-2013-7285/6344867dce6767af7d0...   \n1    proc/changes/CVE-2019-17513/efb910d38a96494256...   \n2    proc/changes/CVE-2019-16771/b597f7a865a527a84e...   \n3    proc/changes/CVE-2019-16771/b597f7a865a527a84e...   \n4    proc/changes/CVE-2019-16771/b597f7a865a527a84e...   \n..                                                 ...   \n204  proc/changes/CVE-2020-13692/14b62aca4764d49681...   \n205  proc/changes/CVE-2020-13692/14b62aca4764d49681...   \n206  proc/changes/CVE-2018-21234/9bffc3913aeb8472c1...   \n207  proc/changes/CVE-2018-21234/9bffc3913aeb8472c1...   \n208  proc/changes/CVE-2020-13973/f3512bab078af3f5c5...   \n\n                                              jarAfter  \\\n0    proc/changes/CVE-2013-7285/6344867dce6767af7d0...   \n1    proc/changes/CVE-2019-17513/efb910d38a96494256...   \n2    proc/changes/CVE-2019-16771/b597f7a865a527a84e...   \n3    proc/changes/CVE-2019-16771/b597f7a865a527a84e...   \n4    proc/changes/CVE-2019-16771/b597f7a865a527a84e...   \n..                                                 ...   \n204  proc/changes/CVE-2020-13692/14b62aca4764d49681...   \n205  proc/changes/CVE-2020-13692/14b62aca4764d49681...   \n206  proc/changes/CVE-2018-21234/9bffc3913aeb8472c1...   \n207  proc/changes/CVE-2018-21234/9bffc3913aeb8472c1...   \n208  proc/changes/CVE-2020-13973/f3512bab078af3f5c5...   \n\n                                             srcBefore  \\\n0    proc/changes/CVE-2013-7285/6344867dce6767af7d0...   \n1    proc/changes/CVE-2019-17513/efb910d38a96494256...   \n2    proc/changes/CVE-2019-16771/b597f7a865a527a84e...   \n3    proc/changes/CVE-2019-16771/b597f7a865a527a84e...   \n4    proc/changes/CVE-2019-16771/b597f7a865a527a84e...   \n..                                                 ...   \n204  proc/changes/CVE-2020-13692/14b62aca4764d49681...   \n205  proc/changes/CVE-2020-13692/14b62aca4764d49681...   \n206  proc/changes/CVE-2018-21234/9bffc3913aeb8472c1...   \n207  proc/changes/CVE-2018-21234/9bffc3913aeb8472c1...   \n208  proc/changes/CVE-2020-13973/f3512bab078af3f5c5...   \n\n                                              srcAfter  \\\n0    proc/changes/CVE-2013-7285/6344867dce6767af7d0...   \n1    proc/changes/CVE-2019-17513/efb910d38a96494256...   \n2    proc/changes/CVE-2019-16771/b597f7a865a527a84e...   \n3    proc/changes/CVE-2019-16771/b597f7a865a527a84e...   \n4    proc/changes/CVE-2019-16771/b597f7a865a527a84e...   \n..                                                 ...   \n204  proc/changes/CVE-2020-13692/14b62aca4764d49681...   \n205  proc/changes/CVE-2020-13692/14b62aca4764d49681...   \n206  proc/changes/CVE-2018-21234/9bffc3913aeb8472c1...   \n207  proc/changes/CVE-2018-21234/9bffc3913aeb8472c1...   \n208  proc/changes/CVE-2020-13973/f3512bab078af3f5c5...   \n\n                                       classFileBefore  \\\n0    proc/changes/CVE-2013-7285/6344867dce6767af7d0...   \n1    proc/changes/CVE-2019-17513/efb910d38a96494256...   \n2    proc/changes/CVE-2019-16771/b597f7a865a527a84e...   \n3    proc/changes/CVE-2019-16771/b597f7a865a527a84e...   \n4    proc/changes/CVE-2019-16771/b597f7a865a527a84e...   \n..                                                 ...   \n204  proc/changes/CVE-2020-13692/14b62aca4764d49681...   \n205  proc/changes/CVE-2020-13692/14b62aca4764d49681...   \n206  proc/changes/CVE-2018-21234/9bffc3913aeb8472c1...   \n207  proc/changes/CVE-2018-21234/9bffc3913aeb8472c1...   \n208  proc/changes/CVE-2020-13973/f3512bab078af3f5c5...   \n\n                                        classFileAfter         changedClass  \\\n0    proc/changes/CVE-2013-7285/6344867dce6767af7d0...              XStream   \n1    proc/changes/CVE-2019-17513/efb910d38a96494256...  NettyHandlerAdapter   \n2    proc/changes/CVE-2019-16771/b597f7a865a527a84e...      HttpHeaderNames   \n3    proc/changes/CVE-2019-16771/b597f7a865a527a84e...      HttpHeadersBase   \n4    proc/changes/CVE-2019-16771/b597f7a865a527a84e...      ArmeriaHttpUtil   \n..                                                 ...                  ...   \n204  proc/changes/CVE-2020-13692/14b62aca4764d49681...         PgConnection   \n205  proc/changes/CVE-2020-13692/14b62aca4764d49681...             PgSQLXML   \n206  proc/changes/CVE-2018-21234/9bffc3913aeb8472c1...           JsonParser   \n207  proc/changes/CVE-2018-21234/9bffc3913aeb8472c1...            MapToBean   \n208  proc/changes/CVE-2020-13973/f3512bab078af3f5c5...        JsonSanitizer   \n\n                                        changedMethods  \\\n0    [XStream::allowTypes, XStream::denyPermission,...   \n1                    [NettyHandlerAdapter::newRequest]   \n2    [HttpHeaderNames::create, HttpHeaderNames::mal...   \n3    [HttpHeadersBase::set, HttpHeadersBase::setObj...   \n4                    [ArmeriaHttpUtil::toLowercaseMap]   \n..                                                 ...   \n204  [PgConnection::PgConnection, PgConnection::get...   \n205  [PgSQLXML::getSource, PgSQLXML::ensureInitiali...   \n206  [JsonParser::allowClass, JsonParser::allowAllC...   \n207   [MapToBean::map2bean, MapToBean::checkClassName]   \n208                    [JsonSanitizer::sanitizeString]   \n\n                   packageIdBefore                 packageIdAfter  \\\n0         com.thoughtworks.xstream       com.thoughtworks.xstream   \n1          ratpack.server.internal        ratpack.server.internal   \n2      com.linecorp.armeria.common    com.linecorp.armeria.common   \n3      com.linecorp.armeria.common    com.linecorp.armeria.common   \n4    com.linecorp.armeria.internal  com.linecorp.armeria.internal   \n..                             ...                            ...   \n204            org.postgresql.jdbc            org.postgresql.jdbc   \n205            org.postgresql.jdbc            org.postgresql.jdbc   \n206                      jodd.json                      jodd.json   \n207                      jodd.json                      jodd.json   \n208                com.google.json                com.google.json   \n\n                                        diffParsedJson  nloc  \n0    {\"added\": [[3, \" * Copyright (C) 2006, 2007, 2...  1032  \n1    {\"added\": [[159, \"    HttpHeaders nettyHeaders...   219  \n2    {\"added\": [[35, \"import java.util.BitSet;\"], [...   226  \n3    {\"added\": [[43, \"import java.util.BitSet;\"], [...   977  \n4    {\"added\": [[676, \"            final AsciiStrin...   638  \n..                                                 ...   ...  \n204  {\"added\": [[40, \"import org.postgresql.xml.Def...  1397  \n205  {\"added\": [[12, \"import org.postgresql.xml.Def...   250  \n206  {\"added\": [[39, \"import java.util.ArrayList;\"]...   728  \n207  {\"added\": [[35, \"import jodd.util.Wildcard;\"],...   163  \n208  {\"added\": [[544, \"        // Embedding. Disall...   746  \n\n[209 rows x 20 columns]",
      "text/html": "<div>\n<style scoped>\n    .dataframe tbody tr th:only-of-type {\n        vertical-align: middle;\n    }\n\n    .dataframe tbody tr th {\n        vertical-align: top;\n    }\n\n    .dataframe thead th {\n        text-align: right;\n    }\n</style>\n<table border=\"1\" class=\"dataframe\">\n  <thead>\n    <tr style=\"text-align: right;\">\n      <th></th>\n      <th>cveId</th>\n      <th>ghsaId</th>\n      <th>packageName</th>\n      <th>vulnIntroduced</th>\n      <th>latestVulnVersion</th>\n      <th>fixedVersion</th>\n      <th>fixCommitRepo</th>\n      <th>fixCommitHash</th>\n      <th>jarBefore</th>\n      <th>jarAfter</th>\n      <th>srcBefore</th>\n      <th>srcAfter</th>\n      <th>classFileBefore</th>\n      <th>classFileAfter</th>\n      <th>changedClass</th>\n      <th>changedMethods</th>\n      <th>packageIdBefore</th>\n      <th>packageIdAfter</th>\n      <th>diffParsedJson</th>\n      <th>nloc</th>\n    </tr>\n  </thead>\n  <tbody>\n    <tr>\n      <th>0</th>\n      <td>CVE-2013-7285</td>\n      <td>GHSA-f554-x222-wgf7</td>\n      <td>com.thoughtworks.xstream:xstream</td>\n      <td>0</td>\n      <td>1.4.5</td>\n      <td>1.4.6</td>\n      <td>https://github.com/x-stream/xstream</td>\n      <td>6344867dce6767af7d0fe34fb393271a6456672d</td>\n      <td>proc/changes/CVE-2013-7285/6344867dce6767af7d0...</td>\n      <td>proc/changes/CVE-2013-7285/6344867dce6767af7d0...</td>\n      <td>proc/changes/CVE-2013-7285/6344867dce6767af7d0...</td>\n      <td>proc/changes/CVE-2013-7285/6344867dce6767af7d0...</td>\n      <td>proc/changes/CVE-2013-7285/6344867dce6767af7d0...</td>\n      <td>proc/changes/CVE-2013-7285/6344867dce6767af7d0...</td>\n      <td>XStream</td>\n      <td>[XStream::allowTypes, XStream::denyPermission,...</td>\n      <td>com.thoughtworks.xstream</td>\n      <td>com.thoughtworks.xstream</td>\n      <td>{\"added\": [[3, \" * Copyright (C) 2006, 2007, 2...</td>\n      <td>1032</td>\n    </tr>\n    <tr>\n      <th>1</th>\n      <td>CVE-2019-17513</td>\n      <td>GHSA-mvqp-q37c-wf9j</td>\n      <td>io.ratpack:ratpack-core</td>\n      <td>0</td>\n      <td>1.7.4</td>\n      <td>1.7.5</td>\n      <td>https://github.com/ratpack/ratpack</td>\n      <td>efb910d38a96494256f36675ef0e5061097dd77d</td>\n      <td>proc/changes/CVE-2019-17513/efb910d38a96494256...</td>\n      <td>proc/changes/CVE-2019-17513/efb910d38a96494256...</td>\n      <td>proc/changes/CVE-2019-17513/efb910d38a96494256...</td>\n      <td>proc/changes/CVE-2019-17513/efb910d38a96494256...</td>\n      <td>proc/changes/CVE-2019-17513/efb910d38a96494256...</td>\n      <td>proc/changes/CVE-2019-17513/efb910d38a96494256...</td>\n      <td>NettyHandlerAdapter</td>\n      <td>[NettyHandlerAdapter::newRequest]</td>\n      <td>ratpack.server.internal</td>\n      <td>ratpack.server.internal</td>\n      <td>{\"added\": [[159, \"    HttpHeaders nettyHeaders...</td>\n      <td>219</td>\n    </tr>\n    <tr>\n      <th>2</th>\n      <td>CVE-2019-16771</td>\n      <td>GHSA-24r8-fm9r-cpj2</td>\n      <td>com.linecorp.armeria:armeria</td>\n      <td>0</td>\n      <td>0.96.0</td>\n      <td>0.97.0</td>\n      <td>https://github.com/line/armeria</td>\n      <td>b597f7a865a527a84ee3d6937075cfbb4470ed20</td>\n      <td>proc/changes/CVE-2019-16771/b597f7a865a527a84e...</td>\n      <td>proc/changes/CVE-2019-16771/b597f7a865a527a84e...</td>\n      <td>proc/changes/CVE-2019-16771/b597f7a865a527a84e...</td>\n      <td>proc/changes/CVE-2019-16771/b597f7a865a527a84e...</td>\n      <td>proc/changes/CVE-2019-16771/b597f7a865a527a84e...</td>\n      <td>proc/changes/CVE-2019-16771/b597f7a865a527a84e...</td>\n      <td>HttpHeaderNames</td>\n      <td>[HttpHeaderNames::create, HttpHeaderNames::mal...</td>\n      <td>com.linecorp.armeria.common</td>\n      <td>com.linecorp.armeria.common</td>\n      <td>{\"added\": [[35, \"import java.util.BitSet;\"], [...</td>\n      <td>226</td>\n    </tr>\n    <tr>\n      <th>3</th>\n      <td>CVE-2019-16771</td>\n      <td>GHSA-24r8-fm9r-cpj2</td>\n      <td>com.linecorp.armeria:armeria</td>\n      <td>0</td>\n      <td>0.96.0</td>\n      <td>0.97.0</td>\n      <td>https://github.com/line/armeria</td>\n      <td>b597f7a865a527a84ee3d6937075cfbb4470ed20</td>\n      <td>proc/changes/CVE-2019-16771/b597f7a865a527a84e...</td>\n      <td>proc/changes/CVE-2019-16771/b597f7a865a527a84e...</td>\n      <td>proc/changes/CVE-2019-16771/b597f7a865a527a84e...</td>\n      <td>proc/changes/CVE-2019-16771/b597f7a865a527a84e...</td>\n      <td>proc/changes/CVE-2019-16771/b597f7a865a527a84e...</td>\n      <td>proc/changes/CVE-2019-16771/b597f7a865a527a84e...</td>\n      <td>HttpHeadersBase</td>\n      <td>[HttpHeadersBase::set, HttpHeadersBase::setObj...</td>\n      <td>com.linecorp.armeria.common</td>\n      <td>com.linecorp.armeria.common</td>\n      <td>{\"added\": [[43, \"import java.util.BitSet;\"], [...</td>\n      <td>977</td>\n    </tr>\n    <tr>\n      <th>4</th>\n      <td>CVE-2019-16771</td>\n      <td>GHSA-24r8-fm9r-cpj2</td>\n      <td>com.linecorp.armeria:armeria</td>\n      <td>0</td>\n      <td>0.96.0</td>\n      <td>0.97.0</td>\n      <td>https://github.com/line/armeria</td>\n      <td>b597f7a865a527a84ee3d6937075cfbb4470ed20</td>\n      <td>proc/changes/CVE-2019-16771/b597f7a865a527a84e...</td>\n      <td>proc/changes/CVE-2019-16771/b597f7a865a527a84e...</td>\n      <td>proc/changes/CVE-2019-16771/b597f7a865a527a84e...</td>\n      <td>proc/changes/CVE-2019-16771/b597f7a865a527a84e...</td>\n      <td>proc/changes/CVE-2019-16771/b597f7a865a527a84e...</td>\n      <td>proc/changes/CVE-2019-16771/b597f7a865a527a84e...</td>\n      <td>ArmeriaHttpUtil</td>\n      <td>[ArmeriaHttpUtil::toLowercaseMap]</td>\n      <td>com.linecorp.armeria.internal</td>\n      <td>com.linecorp.armeria.internal</td>\n      <td>{\"added\": [[676, \"            final AsciiStrin...</td>\n      <td>638</td>\n    </tr>\n    <tr>\n      <th>...</th>\n      <td>...</td>\n      <td>...</td>\n      <td>...</td>\n      <td>...</td>\n      <td>...</td>\n      <td>...</td>\n      <td>...</td>\n      <td>...</td>\n      <td>...</td>\n      <td>...</td>\n      <td>...</td>\n      <td>...</td>\n      <td>...</td>\n      <td>...</td>\n      <td>...</td>\n      <td>...</td>\n      <td>...</td>\n      <td>...</td>\n      <td>...</td>\n      <td>...</td>\n    </tr>\n    <tr>\n      <th>204</th>\n      <td>CVE-2020-13692</td>\n      <td>GHSA-88cc-g835-76rp</td>\n      <td>org.postgresql:postgresql</td>\n      <td>0</td>\n      <td>42.2.12.jre7</td>\n      <td>42.2.13</td>\n      <td>https://github.com/pgjdbc/pgjdbc</td>\n      <td>14b62aca4764d496813f55a43d050b017e01eb65</td>\n      <td>proc/changes/CVE-2020-13692/14b62aca4764d49681...</td>\n      <td>proc/changes/CVE-2020-13692/14b62aca4764d49681...</td>\n      <td>proc/changes/CVE-2020-13692/14b62aca4764d49681...</td>\n      <td>proc/changes/CVE-2020-13692/14b62aca4764d49681...</td>\n      <td>proc/changes/CVE-2020-13692/14b62aca4764d49681...</td>\n      <td>proc/changes/CVE-2020-13692/14b62aca4764d49681...</td>\n      <td>PgConnection</td>\n      <td>[PgConnection::PgConnection, PgConnection::get...</td>\n      <td>org.postgresql.jdbc</td>\n      <td>org.postgresql.jdbc</td>\n      <td>{\"added\": [[40, \"import org.postgresql.xml.Def...</td>\n      <td>1397</td>\n    </tr>\n    <tr>\n      <th>205</th>\n      <td>CVE-2020-13692</td>\n      <td>GHSA-88cc-g835-76rp</td>\n      <td>org.postgresql:postgresql</td>\n      <td>0</td>\n      <td>42.2.12.jre7</td>\n      <td>42.2.13</td>\n      <td>https://github.com/pgjdbc/pgjdbc</td>\n      <td>14b62aca4764d496813f55a43d050b017e01eb65</td>\n      <td>proc/changes/CVE-2020-13692/14b62aca4764d49681...</td>\n      <td>proc/changes/CVE-2020-13692/14b62aca4764d49681...</td>\n      <td>proc/changes/CVE-2020-13692/14b62aca4764d49681...</td>\n      <td>proc/changes/CVE-2020-13692/14b62aca4764d49681...</td>\n      <td>proc/changes/CVE-2020-13692/14b62aca4764d49681...</td>\n      <td>proc/changes/CVE-2020-13692/14b62aca4764d49681...</td>\n      <td>PgSQLXML</td>\n      <td>[PgSQLXML::getSource, PgSQLXML::ensureInitiali...</td>\n      <td>org.postgresql.jdbc</td>\n      <td>org.postgresql.jdbc</td>\n      <td>{\"added\": [[12, \"import org.postgresql.xml.Def...</td>\n      <td>250</td>\n    </tr>\n    <tr>\n      <th>206</th>\n      <td>CVE-2018-21234</td>\n      <td>GHSA-jrg3-qq99-35g7</td>\n      <td>org.jodd:jodd-all</td>\n      <td>0</td>\n      <td>5.0.3</td>\n      <td>5.0.4</td>\n      <td>https://github.com/oblac/jodd</td>\n      <td>9bffc3913aeb8472c11bb543243004b4b4376f16</td>\n      <td>proc/changes/CVE-2018-21234/9bffc3913aeb8472c1...</td>\n      <td>proc/changes/CVE-2018-21234/9bffc3913aeb8472c1...</td>\n      <td>proc/changes/CVE-2018-21234/9bffc3913aeb8472c1...</td>\n      <td>proc/changes/CVE-2018-21234/9bffc3913aeb8472c1...</td>\n      <td>proc/changes/CVE-2018-21234/9bffc3913aeb8472c1...</td>\n      <td>proc/changes/CVE-2018-21234/9bffc3913aeb8472c1...</td>\n      <td>JsonParser</td>\n      <td>[JsonParser::allowClass, JsonParser::allowAllC...</td>\n      <td>jodd.json</td>\n      <td>jodd.json</td>\n      <td>{\"added\": [[39, \"import java.util.ArrayList;\"]...</td>\n      <td>728</td>\n    </tr>\n    <tr>\n      <th>207</th>\n      <td>CVE-2018-21234</td>\n      <td>GHSA-jrg3-qq99-35g7</td>\n      <td>org.jodd:jodd-all</td>\n      <td>0</td>\n      <td>5.0.3</td>\n      <td>5.0.4</td>\n      <td>https://github.com/oblac/jodd</td>\n      <td>9bffc3913aeb8472c11bb543243004b4b4376f16</td>\n      <td>proc/changes/CVE-2018-21234/9bffc3913aeb8472c1...</td>\n      <td>proc/changes/CVE-2018-21234/9bffc3913aeb8472c1...</td>\n      <td>proc/changes/CVE-2018-21234/9bffc3913aeb8472c1...</td>\n      <td>proc/changes/CVE-2018-21234/9bffc3913aeb8472c1...</td>\n      <td>proc/changes/CVE-2018-21234/9bffc3913aeb8472c1...</td>\n      <td>proc/changes/CVE-2018-21234/9bffc3913aeb8472c1...</td>\n      <td>MapToBean</td>\n      <td>[MapToBean::map2bean, MapToBean::checkClassName]</td>\n      <td>jodd.json</td>\n      <td>jodd.json</td>\n      <td>{\"added\": [[35, \"import jodd.util.Wildcard;\"],...</td>\n      <td>163</td>\n    </tr>\n    <tr>\n      <th>208</th>\n      <td>CVE-2020-13973</td>\n      <td>GHSA-g8jj-899q-8x3j</td>\n      <td>com.mikesamuel:json-sanitizer</td>\n      <td>0</td>\n      <td>1.2.0</td>\n      <td>1.2.1</td>\n      <td>https://github.com/OWASP/json-sanitizer</td>\n      <td>f3512bab078af3f5c533dacc2d410add8c0c1124</td>\n      <td>proc/changes/CVE-2020-13973/f3512bab078af3f5c5...</td>\n      <td>proc/changes/CVE-2020-13973/f3512bab078af3f5c5...</td>\n      <td>proc/changes/CVE-2020-13973/f3512bab078af3f5c5...</td>\n      <td>proc/changes/CVE-2020-13973/f3512bab078af3f5c5...</td>\n      <td>proc/changes/CVE-2020-13973/f3512bab078af3f5c5...</td>\n      <td>proc/changes/CVE-2020-13973/f3512bab078af3f5c5...</td>\n      <td>JsonSanitizer</td>\n      <td>[JsonSanitizer::sanitizeString]</td>\n      <td>com.google.json</td>\n      <td>com.google.json</td>\n      <td>{\"added\": [[544, \"        // Embedding. Disall...</td>\n      <td>746</td>\n    </tr>\n  </tbody>\n</table>\n<p>209 rows × 20 columns</p>\n</div>"
     },
     "execution_count": 6,
     "metadata": {},
     "output_type": "execute_result"
    }
   ],
   "source": [
    "df: pd.DataFrame = pd.read_csv(DATA_DIR / 'proc' / 'changes.tsv', delimiter='\\t')\n",
    "df"
   ]
  },
  {
   "cell_type": "code",
   "execution_count": 9,
   "outputs": [
    {
     "name": "stdout",
     "output_type": "stream",
     "text": [
      "cveId\n",
      "ghsaId\n",
      "packageName\n",
      "vulnIntroduced\n",
      "latestVulnVersion\n",
      "fixedVersion\n",
      "fixCommitRepo\n",
      "fixCommitHash\n",
      "jarBefore\n",
      "jarAfter\n",
      "srcBefore\n",
      "srcAfter\n",
      "classFileBefore\n",
      "classFileAfter\n",
      "changedClass\n",
      "changedMethods\n",
      "packageIdBefore\n",
      "packageIdAfter\n",
      "diffParsedJson\n",
      "nloc\n"
     ]
    }
   ],
   "source": [
    "print('\\n'.join(df.columns))"
   ],
   "metadata": {
    "collapsed": false,
    "ExecuteTime": {
     "end_time": "2023-12-07T05:10:47.232548188Z",
     "start_time": "2023-12-07T05:10:47.191768764Z"
    }
   },
   "id": "a89afc3e5fefdd35"
  },
  {
   "cell_type": "code",
   "execution_count": 18,
   "id": "26839a1da2a1fdd2",
   "metadata": {
    "collapsed": false,
    "ExecuteTime": {
     "end_time": "2023-12-07T05:41:24.543847695Z",
     "start_time": "2023-12-07T05:41:24.071881505Z"
    }
   },
   "outputs": [],
   "source": [
    "msr_dir = DATA_DIR / 'proc' / 'msr24'\n",
    "jars_dir = msr_dir / 'jars' / 'NEQ3'\n",
    "jars_dir.mkdir(parents=True, exist_ok=True)\n",
    "\n",
    "changes_dir = DATA_DIR / 'proc' / 'changes'\n",
    "\n",
    "df_msr: list[OrderedDict] = []\n",
    "for it in df.to_dict(orient='records'):\n",
    "    r = OrderedDict()\n",
    "\n",
    "    jar_before = jars_dir / Path(it['jarBefore']).name\n",
    "    jar_after = jars_dir / Path(it['jarAfter']).name\n",
    "\n",
    "    if not jar_before.is_file():\n",
    "        shutil.copyfile(DATA_DIR / Path(it['jarBefore']), jar_before)\n",
    "\n",
    "    if not jar_after.is_file():\n",
    "        shutil.copyfile(DATA_DIR / Path(it['jarAfter']), jar_after)\n",
    "    \n",
    "    r['container_1'] = jar_before.relative_to(msr_dir).__str__()\n",
    "    r['container_2'] = jar_after.relative_to(msr_dir).__str__()\n",
    "    \n",
    "    r['class_1'] = '/' + it['packageIdBefore'].replace('.', '/') + '/' + it['changedClass'] + '.class'\n",
    "    r['class_2'] = '/' + it['packageIdAfter'].replace('.', '/') + '/' + it['changedClass'] + '.class'\n",
    "    \n",
    "    r['cve_id'] = it['cveId']\n",
    "    r['ghsa_id'] = it['ghsaId']\n",
    "    r['group_artifact'] = it['packageName']\n",
    "    r['latest_vulnerable_version'] = it['latestVulnVersion']\n",
    "    r['fixed_version'] = it['fixedVersion']\n",
    "    r['repo'] = it['fixCommitRepo']\n",
    "    r['fix_commit'] = it['fixCommitHash']\n",
    "    r['modified_methods'] = it['changedMethods']\n",
    "    \n",
    "    df_msr.append(r)\n"
   ]
  },
  {
   "cell_type": "code",
   "execution_count": 23,
   "outputs": [],
   "source": [
    "df_msr: pd.DataFrame = pd.DataFrame(df_msr)"
   ],
   "metadata": {
    "collapsed": false,
    "ExecuteTime": {
     "end_time": "2023-12-07T06:03:14.330167712Z",
     "start_time": "2023-12-07T06:03:14.288065575Z"
    }
   },
   "id": "e934a7dbd1c098f7"
  },
  {
   "cell_type": "code",
   "execution_count": 24,
   "outputs": [],
   "source": [
    "df_msr.to_csv(msr_dir / 'NEQ3.tsv', sep='\\t', index=False)"
   ],
   "metadata": {
    "collapsed": false,
    "ExecuteTime": {
     "end_time": "2023-12-07T06:03:15.201126979Z",
     "start_time": "2023-12-07T06:03:15.193800891Z"
    }
   },
   "id": "62f7c89c7500c00d"
  }
 ],
 "metadata": {
  "kernelspec": {
   "display_name": "Python 3 (ipykernel)",
   "language": "python",
   "name": "python3"
  },
  "language_info": {
   "codemirror_mode": {
    "name": "ipython",
    "version": 3
   },
   "file_extension": ".py",
   "mimetype": "text/x-python",
   "name": "python",
   "nbconvert_exporter": "python",
   "pygments_lexer": "ipython3",
   "version": "3.11.6"
  }
 },
 "nbformat": 4,
 "nbformat_minor": 5
}
